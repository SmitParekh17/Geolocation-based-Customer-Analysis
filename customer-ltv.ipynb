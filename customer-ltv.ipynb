{
 "cells": [
  {
   "cell_type": "code",
   "execution_count": 1,
   "metadata": {
    "_cell_guid": "79c7e3d0-c299-4dcb-8224-4455121ee9b0",
    "_uuid": "d629ff2d2480ee46fbb7e2d37f6b5fab8052498a"
   },
   "outputs": [],
   "source": [
    "import pandas as pd\n",
    "import numpy as np\n",
    "import matplotlib.pyplot as plt\n",
    "import seaborn as sns\n",
    "\n",
    "from sklearn.cluster import KMeans\n",
    "from sklearn.decomposition import PCA\n",
    "from sklearn.preprocessing import MinMaxScaler, LabelEncoder\n",
    "from sklearn.ensemble import RandomForestClassifier\n",
    "from sklearn.model_selection import train_test_split\n",
    "from xgboost import XGBClassifier\n",
    "from sklearn.metrics import classification_report, accuracy_score, confusion_matrix"
   ]
  },
  {
   "cell_type": "code",
   "execution_count": 2,
   "metadata": {},
   "outputs": [],
   "source": [
    "pd.set_option('display.max_columns', None)\n",
    "pd.set_option('display.max_rows', None)\n",
    "pd.set_option('display.width', 1000)\n",
    "pd.options.display.float_format = '{:.2f}'.format"
   ]
  },
  {
   "cell_type": "code",
   "execution_count": 3,
   "metadata": {},
   "outputs": [
    {
     "data": {
      "text/html": [
       "<div>\n",
       "<style scoped>\n",
       "    .dataframe tbody tr th:only-of-type {\n",
       "        vertical-align: middle;\n",
       "    }\n",
       "\n",
       "    .dataframe tbody tr th {\n",
       "        vertical-align: top;\n",
       "    }\n",
       "\n",
       "    .dataframe thead th {\n",
       "        text-align: right;\n",
       "    }\n",
       "</style>\n",
       "<table border=\"1\" class=\"dataframe\">\n",
       "  <thead>\n",
       "    <tr style=\"text-align: right;\">\n",
       "      <th></th>\n",
       "      <th>Business Partner</th>\n",
       "      <th>Customer No.</th>\n",
       "      <th>Partner Type</th>\n",
       "      <th>Data Origin</th>\n",
       "      <th>Title</th>\n",
       "    </tr>\n",
       "  </thead>\n",
       "  <tbody>\n",
       "    <tr>\n",
       "      <th>0</th>\n",
       "      <td>31</td>\n",
       "      <td>1</td>\n",
       "      <td>1.00</td>\n",
       "      <td>Z001</td>\n",
       "      <td>nan</td>\n",
       "    </tr>\n",
       "    <tr>\n",
       "      <th>1</th>\n",
       "      <td>32</td>\n",
       "      <td>2</td>\n",
       "      <td>1.00</td>\n",
       "      <td>Z005</td>\n",
       "      <td>nan</td>\n",
       "    </tr>\n",
       "    <tr>\n",
       "      <th>2</th>\n",
       "      <td>34</td>\n",
       "      <td>4</td>\n",
       "      <td>1.00</td>\n",
       "      <td>Z005</td>\n",
       "      <td>nan</td>\n",
       "    </tr>\n",
       "    <tr>\n",
       "      <th>3</th>\n",
       "      <td>35</td>\n",
       "      <td>5</td>\n",
       "      <td>1.00</td>\n",
       "      <td>Z005</td>\n",
       "      <td>nan</td>\n",
       "    </tr>\n",
       "    <tr>\n",
       "      <th>4</th>\n",
       "      <td>42</td>\n",
       "      <td>7</td>\n",
       "      <td>1.00</td>\n",
       "      <td>Z008</td>\n",
       "      <td>nan</td>\n",
       "    </tr>\n",
       "  </tbody>\n",
       "</table>\n",
       "</div>"
      ],
      "text/plain": [
       "  Business Partner Customer No.  Partner Type Data Origin  Title\n",
       "0               31            1          1.00        Z001    nan\n",
       "1               32            2          1.00        Z005    nan\n",
       "2               34            4          1.00        Z005    nan\n",
       "3               35            5          1.00        Z005    nan\n",
       "4               42            7          1.00        Z008    nan"
      ]
     },
     "execution_count": 3,
     "metadata": {},
     "output_type": "execute_result"
    }
   ],
   "source": [
    "cleaned_cust_data  = pd.read_excel(\"../input/feature-engineering/cleaned_cust_data.xlsx\")\n",
    "cleaned_cust_data.drop(['Unnamed: 0'],1,inplace=True)\n",
    "cleaned_cust_data.head()"
   ]
  },
  {
   "cell_type": "code",
   "execution_count": 4,
   "metadata": {},
   "outputs": [
    {
     "data": {
      "text/html": [
       "<div>\n",
       "<style scoped>\n",
       "    .dataframe tbody tr th:only-of-type {\n",
       "        vertical-align: middle;\n",
       "    }\n",
       "\n",
       "    .dataframe tbody tr th {\n",
       "        vertical-align: top;\n",
       "    }\n",
       "\n",
       "    .dataframe thead th {\n",
       "        text-align: right;\n",
       "    }\n",
       "</style>\n",
       "<table border=\"1\" class=\"dataframe\">\n",
       "  <thead>\n",
       "    <tr style=\"text-align: right;\">\n",
       "      <th></th>\n",
       "      <th>DBM Order</th>\n",
       "      <th>Order Item</th>\n",
       "      <th>Material</th>\n",
       "      <th>Description</th>\n",
       "      <th>Item Category</th>\n",
       "      <th>Order Quantity</th>\n",
       "      <th>Target quantity UoM</th>\n",
       "      <th>Net value</th>\n",
       "    </tr>\n",
       "  </thead>\n",
       "  <tbody>\n",
       "    <tr>\n",
       "      <th>0</th>\n",
       "      <td>22385</td>\n",
       "      <td>180</td>\n",
       "      <td>OSLCC_SRV31</td>\n",
       "      <td>MACHINING RR.SUSPENSION CHARGE  (MAJOR)</td>\n",
       "      <td>P010</td>\n",
       "      <td>1.20</td>\n",
       "      <td>MIN</td>\n",
       "      <td>1869.87</td>\n",
       "    </tr>\n",
       "    <tr>\n",
       "      <th>1</th>\n",
       "      <td>23910</td>\n",
       "      <td>10</td>\n",
       "      <td>1DM279018170117</td>\n",
       "      <td>ASSY.OIL COOLER (6-PLATE) (VOR</td>\n",
       "      <td>P002</td>\n",
       "      <td>1.00</td>\n",
       "      <td>EA</td>\n",
       "      <td>2151.13</td>\n",
       "    </tr>\n",
       "    <tr>\n",
       "      <th>2</th>\n",
       "      <td>23910</td>\n",
       "      <td>40</td>\n",
       "      <td>1IS150203BE01</td>\n",
       "      <td>FRONT WHEEL BEARING/ LUBRICATE</td>\n",
       "      <td>P002</td>\n",
       "      <td>1.00</td>\n",
       "      <td>EA</td>\n",
       "      <td>2552.92</td>\n",
       "    </tr>\n",
       "    <tr>\n",
       "      <th>3</th>\n",
       "      <td>23910</td>\n",
       "      <td>60</td>\n",
       "      <td>1DM279001990173</td>\n",
       "      <td>ASSY.CYL.HEAD W /O INJ.(NA W /O</td>\n",
       "      <td>P002</td>\n",
       "      <td>1.00</td>\n",
       "      <td>EA</td>\n",
       "      <td>20360.14</td>\n",
       "    </tr>\n",
       "    <tr>\n",
       "      <th>4</th>\n",
       "      <td>23910</td>\n",
       "      <td>70</td>\n",
       "      <td>1DM88552790S001SA</td>\n",
       "      <td>Engine Overhaul Kit -Indica Di</td>\n",
       "      <td>P002</td>\n",
       "      <td>1.00</td>\n",
       "      <td>EA</td>\n",
       "      <td>10691.63</td>\n",
       "    </tr>\n",
       "  </tbody>\n",
       "</table>\n",
       "</div>"
      ],
      "text/plain": [
       "   DBM Order  Order Item           Material                              Description Item Category  Order Quantity Target quantity UoM  Net value\n",
       "0      22385         180        OSLCC_SRV31  MACHINING RR.SUSPENSION CHARGE  (MAJOR)          P010            1.20                 MIN    1869.87\n",
       "1      23910          10    1DM279018170117           ASSY.OIL COOLER (6-PLATE) (VOR          P002            1.00                  EA    2151.13\n",
       "2      23910          40      1IS150203BE01           FRONT WHEEL BEARING/ LUBRICATE          P002            1.00                  EA    2552.92\n",
       "3      23910          60    1DM279001990173          ASSY.CYL.HEAD W /O INJ.(NA W /O          P002            1.00                  EA   20360.14\n",
       "4      23910          70  1DM88552790S001SA           Engine Overhaul Kit -Indica Di          P002            1.00                  EA   10691.63"
      ]
     },
     "execution_count": 4,
     "metadata": {},
     "output_type": "execute_result"
    }
   ],
   "source": [
    "cleaned_jtd_data  = pd.read_csv(\"../input/feature-engineering/cleaned_jtd_data.csv\")\n",
    "cleaned_jtd_data.drop(['Unnamed: 0'],1,inplace=True)\n",
    "cleaned_jtd_data.head()"
   ]
  },
  {
   "cell_type": "code",
   "execution_count": 5,
   "metadata": {},
   "outputs": [
    {
     "data": {
      "text/html": [
       "<div>\n",
       "<style scoped>\n",
       "    .dataframe tbody tr th:only-of-type {\n",
       "        vertical-align: middle;\n",
       "    }\n",
       "\n",
       "    .dataframe tbody tr th {\n",
       "        vertical-align: top;\n",
       "    }\n",
       "\n",
       "    .dataframe thead th {\n",
       "        text-align: right;\n",
       "    }\n",
       "</style>\n",
       "<table border=\"1\" class=\"dataframe\">\n",
       "  <thead>\n",
       "    <tr style=\"text-align: right;\">\n",
       "      <th></th>\n",
       "      <th>Plant</th>\n",
       "      <th>Name 1</th>\n",
       "      <th>House number and street</th>\n",
       "      <th>Postal Code</th>\n",
       "      <th>City</th>\n",
       "      <th>Sales organization</th>\n",
       "      <th>State</th>\n",
       "    </tr>\n",
       "  </thead>\n",
       "  <tbody>\n",
       "    <tr>\n",
       "      <th>0</th>\n",
       "      <td>BC07</td>\n",
       "      <td>NERKUNDRAM</td>\n",
       "      <td>No.117 Poonamallee High Road,</td>\n",
       "      <td>600107</td>\n",
       "      <td>Chennai</td>\n",
       "      <td>MFCS</td>\n",
       "      <td>Tamil Nadu</td>\n",
       "    </tr>\n",
       "    <tr>\n",
       "      <th>1</th>\n",
       "      <td>BC30</td>\n",
       "      <td>SAS NAGAR - MOHALI</td>\n",
       "      <td>C-118, Phase 07,</td>\n",
       "      <td>160055</td>\n",
       "      <td>Mohali</td>\n",
       "      <td>MFCS</td>\n",
       "      <td>Punjab</td>\n",
       "    </tr>\n",
       "    <tr>\n",
       "      <th>2</th>\n",
       "      <td>X001</td>\n",
       "      <td>X001 - AUTO PLANET WHEELS</td>\n",
       "      <td>Unit No.3, Kothari Compound,</td>\n",
       "      <td>400610</td>\n",
       "      <td>Thane</td>\n",
       "      <td>MFCA</td>\n",
       "      <td>Maharashtra</td>\n",
       "    </tr>\n",
       "    <tr>\n",
       "      <th>3</th>\n",
       "      <td>X002</td>\n",
       "      <td>X002 - BHANDARI INDUSTRIES PVT</td>\n",
       "      <td>18/1, C Site 4, Sahibabad</td>\n",
       "      <td>201010</td>\n",
       "      <td>Ghaziabad</td>\n",
       "      <td>MFCA</td>\n",
       "      <td>Uttar Pradesh</td>\n",
       "    </tr>\n",
       "    <tr>\n",
       "      <th>4</th>\n",
       "      <td>X003</td>\n",
       "      <td>X003 - Om Sri Satya Sai Automo</td>\n",
       "      <td>#75, Sy.No. 83/2, Panathur Mai</td>\n",
       "      <td>560087</td>\n",
       "      <td>Bengaluru</td>\n",
       "      <td>MFCB</td>\n",
       "      <td>Karnataka</td>\n",
       "    </tr>\n",
       "  </tbody>\n",
       "</table>\n",
       "</div>"
      ],
      "text/plain": [
       "  Plant                          Name 1         House number and street  Postal Code       City Sales organization          State\n",
       "0  BC07                      NERKUNDRAM   No.117 Poonamallee High Road,       600107    Chennai               MFCS     Tamil Nadu\n",
       "1  BC30              SAS NAGAR - MOHALI                C-118, Phase 07,       160055     Mohali               MFCS         Punjab\n",
       "2  X001       X001 - AUTO PLANET WHEELS    Unit No.3, Kothari Compound,       400610      Thane               MFCA    Maharashtra\n",
       "3  X002  X002 - BHANDARI INDUSTRIES PVT       18/1, C Site 4, Sahibabad       201010  Ghaziabad               MFCA  Uttar Pradesh\n",
       "4  X003  X003 - Om Sri Satya Sai Automo  #75, Sy.No. 83/2, Panathur Mai       560087  Bengaluru               MFCB      Karnataka"
      ]
     },
     "execution_count": 5,
     "metadata": {},
     "output_type": "execute_result"
    }
   ],
   "source": [
    "cleaned_plant_data  = pd.read_excel(\"../input/feature-engineering/cleaned_plant_data.xlsx\")\n",
    "cleaned_plant_data.drop(['Unnamed: 0'],1,inplace=True)\n",
    "cleaned_plant_data.head()"
   ]
  },
  {
   "cell_type": "code",
   "execution_count": 6,
   "metadata": {},
   "outputs": [
    {
     "name": "stderr",
     "output_type": "stream",
     "text": [
      "/opt/conda/lib/python3.6/site-packages/IPython/core/interactiveshell.py:3063: DtypeWarning: Columns (24) have mixed types. Specify dtype option on import or set low_memory=False.\n",
      "  interactivity=interactivity, compiler=compiler, result=result)\n"
     ]
    },
    {
     "data": {
      "text/html": [
       "<div>\n",
       "<style scoped>\n",
       "    .dataframe tbody tr th:only-of-type {\n",
       "        vertical-align: middle;\n",
       "    }\n",
       "\n",
       "    .dataframe tbody tr th {\n",
       "        vertical-align: top;\n",
       "    }\n",
       "\n",
       "    .dataframe thead th {\n",
       "        text-align: right;\n",
       "    }\n",
       "</style>\n",
       "<table border=\"1\" class=\"dataframe\">\n",
       "  <thead>\n",
       "    <tr style=\"text-align: right;\">\n",
       "      <th></th>\n",
       "      <th>Job Card No</th>\n",
       "      <th>Cust Type</th>\n",
       "      <th>Customer No.</th>\n",
       "      <th>Gate Pass Time</th>\n",
       "      <th>Invoice Date</th>\n",
       "      <th>Invoice No</th>\n",
       "      <th>Invoice Time</th>\n",
       "      <th>JobCard Date</th>\n",
       "      <th>JobCard Time</th>\n",
       "      <th>KMs Reading</th>\n",
       "      <th>Labour Total</th>\n",
       "      <th>Make</th>\n",
       "      <th>Misc Total</th>\n",
       "      <th>Model</th>\n",
       "      <th>OSL Total</th>\n",
       "      <th>Order Type</th>\n",
       "      <th>Parts Total</th>\n",
       "      <th>Pin code</th>\n",
       "      <th>Plant</th>\n",
       "      <th>Plant Name1</th>\n",
       "      <th>Print Status</th>\n",
       "      <th>Recovrbl Exp</th>\n",
       "      <th>Regn No</th>\n",
       "      <th>Technician Name</th>\n",
       "      <th>Total Amt Wtd Tax.</th>\n",
       "      <th>User ID</th>\n",
       "      <th>Invoice</th>\n",
       "      <th>Job Card</th>\n",
       "      <th>service_time</th>\n",
       "      <th>clean_District</th>\n",
       "      <th>clean_CITY</th>\n",
       "      <th>Age of cars</th>\n",
       "      <th>Month</th>\n",
       "      <th>Year</th>\n",
       "      <th>Day</th>\n",
       "      <th>Season</th>\n",
       "    </tr>\n",
       "  </thead>\n",
       "  <tbody>\n",
       "    <tr>\n",
       "      <th>0</th>\n",
       "      <td>4</td>\n",
       "      <td>Retail</td>\n",
       "      <td>E4981</td>\n",
       "      <td>00:00:00</td>\n",
       "      <td>2012-04-07</td>\n",
       "      <td>7000000285</td>\n",
       "      <td>15:23:22</td>\n",
       "      <td>2012-04-01</td>\n",
       "      <td>16:14:12</td>\n",
       "      <td>191383</td>\n",
       "      <td>3455.92</td>\n",
       "      <td>MAHINDRA &amp;  MAHINDRA</td>\n",
       "      <td>100.00</td>\n",
       "      <td>LOGAN P</td>\n",
       "      <td>2399.95</td>\n",
       "      <td>Running Repairs</td>\n",
       "      <td>11042.62</td>\n",
       "      <td>600032</td>\n",
       "      <td>BC01</td>\n",
       "      <td>THANE</td>\n",
       "      <td>NO</td>\n",
       "      <td>0.00</td>\n",
       "      <td>MH03F9574</td>\n",
       "      <td>4303509</td>\n",
       "      <td>16998.49</td>\n",
       "      <td>SFI_ANANDT</td>\n",
       "      <td>2012-04-07 15:23:22</td>\n",
       "      <td>2012-04-01 16:14:12</td>\n",
       "      <td>143.15</td>\n",
       "      <td>Tamil Nadu</td>\n",
       "      <td>Chennai</td>\n",
       "      <td>13-15</td>\n",
       "      <td>4</td>\n",
       "      <td>2012</td>\n",
       "      <td>1</td>\n",
       "      <td>Summer</td>\n",
       "    </tr>\n",
       "    <tr>\n",
       "      <th>1</th>\n",
       "      <td>5</td>\n",
       "      <td>Retail</td>\n",
       "      <td>10</td>\n",
       "      <td>00:00:00</td>\n",
       "      <td>2012-04-04</td>\n",
       "      <td>7000000091</td>\n",
       "      <td>15:55:29</td>\n",
       "      <td>2012-04-02</td>\n",
       "      <td>12:45:04</td>\n",
       "      <td>105073</td>\n",
       "      <td>2310.47</td>\n",
       "      <td>GENERAL MOTORS</td>\n",
       "      <td>0.00</td>\n",
       "      <td>OPTRA</td>\n",
       "      <td>0.00</td>\n",
       "      <td>Paid Service</td>\n",
       "      <td>1469.33</td>\n",
       "      <td>400093</td>\n",
       "      <td>BC01</td>\n",
       "      <td>THANE</td>\n",
       "      <td>NO</td>\n",
       "      <td>0.00</td>\n",
       "      <td>MH43A5790</td>\n",
       "      <td>NaN</td>\n",
       "      <td>3779.80</td>\n",
       "      <td>GOLIVE</td>\n",
       "      <td>2012-04-04 15:55:29</td>\n",
       "      <td>2012-04-02 12:45:04</td>\n",
       "      <td>51.17</td>\n",
       "      <td>Maharashtra</td>\n",
       "      <td>Mumbai</td>\n",
       "      <td>7-9</td>\n",
       "      <td>4</td>\n",
       "      <td>2012</td>\n",
       "      <td>2</td>\n",
       "      <td>Summer</td>\n",
       "    </tr>\n",
       "    <tr>\n",
       "      <th>2</th>\n",
       "      <td>6</td>\n",
       "      <td>Retail</td>\n",
       "      <td>7</td>\n",
       "      <td>00:00:00</td>\n",
       "      <td>2012-04-02</td>\n",
       "      <td>7000000016</td>\n",
       "      <td>17:44:03</td>\n",
       "      <td>2012-04-02</td>\n",
       "      <td>12:47:59</td>\n",
       "      <td>137832</td>\n",
       "      <td>1340.37</td>\n",
       "      <td>MAHINDRA &amp;  MAHINDRA</td>\n",
       "      <td>0.00</td>\n",
       "      <td>SCORPIO CRDE</td>\n",
       "      <td>0.00</td>\n",
       "      <td>Paid Service</td>\n",
       "      <td>0.00</td>\n",
       "      <td>500038</td>\n",
       "      <td>BC04</td>\n",
       "      <td>BALANAGAR</td>\n",
       "      <td>NO</td>\n",
       "      <td>0.00</td>\n",
       "      <td>AP11AB0153</td>\n",
       "      <td>NaN</td>\n",
       "      <td>1340.37</td>\n",
       "      <td>GOLIVE</td>\n",
       "      <td>2012-04-02 17:44:03</td>\n",
       "      <td>2012-04-02 12:47:59</td>\n",
       "      <td>4.93</td>\n",
       "      <td>Telangana</td>\n",
       "      <td>Hyderabad</td>\n",
       "      <td>10-12</td>\n",
       "      <td>4</td>\n",
       "      <td>2012</td>\n",
       "      <td>2</td>\n",
       "      <td>Summer</td>\n",
       "    </tr>\n",
       "    <tr>\n",
       "      <th>3</th>\n",
       "      <td>7</td>\n",
       "      <td>Retail</td>\n",
       "      <td>11</td>\n",
       "      <td>00:00:00</td>\n",
       "      <td>2012-04-03</td>\n",
       "      <td>7000000038</td>\n",
       "      <td>12:42:33</td>\n",
       "      <td>2012-04-02</td>\n",
       "      <td>13:12:04</td>\n",
       "      <td>136240</td>\n",
       "      <td>167.36</td>\n",
       "      <td>MAHINDRA &amp;  MAHINDRA</td>\n",
       "      <td>0.00</td>\n",
       "      <td>SCORPIO CRDE</td>\n",
       "      <td>0.00</td>\n",
       "      <td>Running Repairs</td>\n",
       "      <td>0.00</td>\n",
       "      <td>422001</td>\n",
       "      <td>BC03</td>\n",
       "      <td>NASHIK</td>\n",
       "      <td>NO</td>\n",
       "      <td>0.00</td>\n",
       "      <td>MH15BD5265</td>\n",
       "      <td>NaN</td>\n",
       "      <td>167.36</td>\n",
       "      <td>GOLIVE</td>\n",
       "      <td>2012-04-03 12:42:33</td>\n",
       "      <td>2012-04-02 13:12:04</td>\n",
       "      <td>23.51</td>\n",
       "      <td>Maharashtra</td>\n",
       "      <td>Nashik</td>\n",
       "      <td>10-12</td>\n",
       "      <td>4</td>\n",
       "      <td>2012</td>\n",
       "      <td>2</td>\n",
       "      <td>Summer</td>\n",
       "    </tr>\n",
       "    <tr>\n",
       "      <th>4</th>\n",
       "      <td>8</td>\n",
       "      <td>Retail</td>\n",
       "      <td>E12096</td>\n",
       "      <td>00:00:00</td>\n",
       "      <td>2012-04-03</td>\n",
       "      <td>7000000031</td>\n",
       "      <td>10:48:06</td>\n",
       "      <td>2012-04-02</td>\n",
       "      <td>13:58:20</td>\n",
       "      <td>140260</td>\n",
       "      <td>200.02</td>\n",
       "      <td>HYUNDAI</td>\n",
       "      <td>0.00</td>\n",
       "      <td>VERNA</td>\n",
       "      <td>0.00</td>\n",
       "      <td>Running Repairs</td>\n",
       "      <td>2106.92</td>\n",
       "      <td>422007</td>\n",
       "      <td>BC03</td>\n",
       "      <td>NASHIK</td>\n",
       "      <td>NO</td>\n",
       "      <td>0.00</td>\n",
       "      <td>MH15CD961</td>\n",
       "      <td>NaN</td>\n",
       "      <td>2306.94</td>\n",
       "      <td>BC03SA2</td>\n",
       "      <td>2012-04-03 10:48:06</td>\n",
       "      <td>2012-04-02 13:58:20</td>\n",
       "      <td>20.83</td>\n",
       "      <td>Maharashtra</td>\n",
       "      <td>Nashik</td>\n",
       "      <td>10-12</td>\n",
       "      <td>4</td>\n",
       "      <td>2012</td>\n",
       "      <td>2</td>\n",
       "      <td>Summer</td>\n",
       "    </tr>\n",
       "  </tbody>\n",
       "</table>\n",
       "</div>"
      ],
      "text/plain": [
       "   Job Card No Cust Type Customer No. Gate Pass Time Invoice Date  Invoice No Invoice Time JobCard Date JobCard Time  KMs Reading  Labour Total                  Make  Misc Total         Model  OSL Total       Order Type  Parts Total  Pin code Plant Plant Name1 Print Status  Recovrbl Exp     Regn No Technician Name  Total Amt Wtd Tax.     User ID              Invoice             Job Card  service_time clean_District clean_CITY Age of cars  Month  Year  Day  Season\n",
       "0            4    Retail        E4981       00:00:00   2012-04-07  7000000285     15:23:22   2012-04-01     16:14:12       191383       3455.92  MAHINDRA &  MAHINDRA      100.00       LOGAN P    2399.95  Running Repairs     11042.62    600032  BC01       THANE           NO          0.00   MH03F9574         4303509            16998.49  SFI_ANANDT  2012-04-07 15:23:22  2012-04-01 16:14:12        143.15     Tamil Nadu    Chennai       13-15      4  2012    1  Summer\n",
       "1            5    Retail           10       00:00:00   2012-04-04  7000000091     15:55:29   2012-04-02     12:45:04       105073       2310.47        GENERAL MOTORS        0.00         OPTRA       0.00     Paid Service      1469.33    400093  BC01       THANE           NO          0.00   MH43A5790             NaN             3779.80      GOLIVE  2012-04-04 15:55:29  2012-04-02 12:45:04         51.17    Maharashtra     Mumbai         7-9      4  2012    2  Summer\n",
       "2            6    Retail            7       00:00:00   2012-04-02  7000000016     17:44:03   2012-04-02     12:47:59       137832       1340.37  MAHINDRA &  MAHINDRA        0.00  SCORPIO CRDE       0.00     Paid Service         0.00    500038  BC04   BALANAGAR           NO          0.00  AP11AB0153             NaN             1340.37      GOLIVE  2012-04-02 17:44:03  2012-04-02 12:47:59          4.93      Telangana  Hyderabad       10-12      4  2012    2  Summer\n",
       "3            7    Retail           11       00:00:00   2012-04-03  7000000038     12:42:33   2012-04-02     13:12:04       136240        167.36  MAHINDRA &  MAHINDRA        0.00  SCORPIO CRDE       0.00  Running Repairs         0.00    422001  BC03      NASHIK           NO          0.00  MH15BD5265             NaN              167.36      GOLIVE  2012-04-03 12:42:33  2012-04-02 13:12:04         23.51    Maharashtra     Nashik       10-12      4  2012    2  Summer\n",
       "4            8    Retail       E12096       00:00:00   2012-04-03  7000000031     10:48:06   2012-04-02     13:58:20       140260        200.02               HYUNDAI        0.00         VERNA       0.00  Running Repairs      2106.92    422007  BC03      NASHIK           NO          0.00   MH15CD961             NaN             2306.94     BC03SA2  2012-04-03 10:48:06  2012-04-02 13:58:20         20.83    Maharashtra     Nashik       10-12      4  2012    2  Summer"
      ]
     },
     "execution_count": 6,
     "metadata": {},
     "output_type": "execute_result"
    }
   ],
   "source": [
    "modified_invoice_data = pd.read_csv(\"../input/feature-engineering/modified_invoice_data.csv\")\n",
    "modified_invoice_data.drop(['Unnamed: 0'],1,inplace=True)\n",
    "modified_invoice_data.head()"
   ]
  },
  {
   "cell_type": "markdown",
   "metadata": {},
   "source": [
    "- ***Customer Lifetime value***: Customer lifetime value is the metric that indicates the total revenue a business can reasonably expect from a single customer account.\n",
    "\n",
    "We are going to calculate CLTV based on Make, Model of a particular customer for year 2013-2015 for only Running type orders\n",
    "\n",
    "- Formula: \n",
    "\n",
    "LTV = (average order value * purchase frequency)/churn rate\n",
    "\n",
    "Average order value = Money spent / Number of transactions\n",
    "\n",
    "Purchase frequency = Total number of transactions / Total number of customers\n",
    "\n",
    "Repeat rate = Number of customers that have come more than once/ Total customers\n",
    "\n",
    "Churn rate = 1 - Repeat rate\n",
    "\n",
    "For this case, we have calculated LTV of a particular customer based on their car make and model. \n",
    "\n",
    "So,\n",
    "LTV = average_order_value (for a single customer) * Purchase Frequency (for a single customer)"
   ]
  },
  {
   "cell_type": "markdown",
   "metadata": {},
   "source": [
    "1) Finding CLTV of a customer based on Make and Model.\n",
    "\n",
    "- Note: Model has 1524 missing values. To handle this we tried to impute Model values based on Customer no. and car manufacturer of a customer is using.\n",
    "\n",
    "- Reason: There is chances a single customer can have more than one car of different car manufacturer. Using that data we can impute remaining Model values of that customer.\n",
    "\n",
    "- Problem: \n",
    "\n",
    ">While trying to impute Model values using above mentioned method groupby is taking too long to execute. To solve this we tried to find out how many customers are there who has visited more than once as we can impute Model of a particular customer based on previous visit data.\n",
    "\n",
    ">We can see that there are 292 customers who has visited more than once and who has missing data in Model feature. Out of 292 customers only 37 customers has atleast one Model value which can be used to impute remaining Model values of that customer. But this will impute only 146 values out of 1524.\n",
    "\n",
    "- Workaround: Imputed Model values based on only Car manufacturer.\n",
    "\n",
    "2) Forming Clusters based on CLTV\n",
    "\n",
    "3) Applying models to predict CLTV"
   ]
  },
  {
   "cell_type": "code",
   "execution_count": 7,
   "metadata": {},
   "outputs": [
    {
     "data": {
      "text/plain": [
       "(1524, 36)"
      ]
     },
     "execution_count": 7,
     "metadata": {},
     "output_type": "execute_result"
    }
   ],
   "source": [
    "null_values = modified_invoice_data[modified_invoice_data['Model'].isnull()]\n",
    "null_values.shape"
   ]
  },
  {
   "cell_type": "markdown",
   "metadata": {},
   "source": [
    "Total unique cust having missing values"
   ]
  },
  {
   "cell_type": "code",
   "execution_count": 8,
   "metadata": {},
   "outputs": [
    {
     "data": {
      "text/plain": [
       "701"
      ]
     },
     "execution_count": 8,
     "metadata": {},
     "output_type": "execute_result"
    }
   ],
   "source": [
    "cno = list(null_values['Customer No.'].value_counts().index)\n",
    "len(cno)"
   ]
  },
  {
   "cell_type": "markdown",
   "metadata": {},
   "source": [
    "- This should work but groupby taking too long to execute"
   ]
  },
  {
   "cell_type": "code",
   "execution_count": 9,
   "metadata": {},
   "outputs": [],
   "source": [
    "testing = modified_invoice_data.copy()"
   ]
  },
  {
   "cell_type": "code",
   "execution_count": 10,
   "metadata": {},
   "outputs": [],
   "source": [
    "# def fill_null(x):\n",
    "#     if sum(x.value_counts().values)>0:\n",
    "#         return x.fillna(x.mode()[0])\n",
    "\n",
    "# clean_model_dem = testing.groupby(['Customer No.','Make'])\n",
    "# clean_model = testing.groupby(['Customer No.','Make'],as_index = False).transform(lambda x: fill_null(x))"
   ]
  },
  {
   "cell_type": "code",
   "execution_count": 11,
   "metadata": {},
   "outputs": [
    {
     "name": "stdout",
     "output_type": "stream",
     "text": [
      "Total Customers who have visited more than one time:  292\n"
     ]
    }
   ],
   "source": [
    "print(\"Total Customers who have visited more than one time: \", sum(null_values['Customer No.'].value_counts()>1))"
   ]
  },
  {
   "cell_type": "code",
   "execution_count": 12,
   "metadata": {},
   "outputs": [
    {
     "data": {
      "text/html": [
       "<div>\n",
       "<style scoped>\n",
       "    .dataframe tbody tr th:only-of-type {\n",
       "        vertical-align: middle;\n",
       "    }\n",
       "\n",
       "    .dataframe tbody tr th {\n",
       "        vertical-align: top;\n",
       "    }\n",
       "\n",
       "    .dataframe thead th {\n",
       "        text-align: right;\n",
       "    }\n",
       "</style>\n",
       "<table border=\"1\" class=\"dataframe\">\n",
       "  <thead>\n",
       "    <tr style=\"text-align: right;\">\n",
       "      <th></th>\n",
       "      <th>index</th>\n",
       "      <th>Customer No.</th>\n",
       "    </tr>\n",
       "  </thead>\n",
       "  <tbody>\n",
       "    <tr>\n",
       "      <th>0</th>\n",
       "      <td>34250</td>\n",
       "      <td>1</td>\n",
       "    </tr>\n",
       "    <tr>\n",
       "      <th>1</th>\n",
       "      <td>32767</td>\n",
       "      <td>1</td>\n",
       "    </tr>\n",
       "    <tr>\n",
       "      <th>2</th>\n",
       "      <td>36142</td>\n",
       "      <td>1</td>\n",
       "    </tr>\n",
       "    <tr>\n",
       "      <th>3</th>\n",
       "      <td>37068</td>\n",
       "      <td>1</td>\n",
       "    </tr>\n",
       "    <tr>\n",
       "      <th>4</th>\n",
       "      <td>150315</td>\n",
       "      <td>1</td>\n",
       "    </tr>\n",
       "  </tbody>\n",
       "</table>\n",
       "</div>"
      ],
      "text/plain": [
       "    index  Customer No.\n",
       "0   34250             1\n",
       "1   32767             1\n",
       "2   36142             1\n",
       "3   37068             1\n",
       "4  150315             1"
      ]
     },
     "execution_count": 12,
     "metadata": {},
     "output_type": "execute_result"
    }
   ],
   "source": [
    "nul = (null_values['Customer No.'].value_counts()>1)*1\n",
    "nul = pd.DataFrame(nul)\n",
    "nul.reset_index(inplace = True)\n",
    "nul.head()"
   ]
  },
  {
   "cell_type": "code",
   "execution_count": 13,
   "metadata": {},
   "outputs": [
    {
     "name": "stdout",
     "output_type": "stream",
     "text": [
      "Total Customers who have visited more than once:  292\n"
     ]
    }
   ],
   "source": [
    "cno_1 = list(nul[nul['Customer No.'] == 1]['index'])\n",
    "print(\"Total Customers who have visited more than once: \", len(cno_1))"
   ]
  },
  {
   "cell_type": "code",
   "execution_count": 14,
   "metadata": {},
   "outputs": [
    {
     "name": "stdout",
     "output_type": "stream",
     "text": [
      "Total unique customers who have visited only once:  409\n"
     ]
    }
   ],
   "source": [
    "cno_0 = list(nul[nul['Customer No.']==0]['index'])\n",
    "print(\"Total unique customers who have visited only once: \", len(cno_0))"
   ]
  },
  {
   "cell_type": "code",
   "execution_count": 15,
   "metadata": {},
   "outputs": [],
   "source": [
    "# for i in cno_0:\n",
    "#     car = testing.loc[testing['Customer No.'] == i, 'Make'].values[0]\n",
    "#     testing.loc[testing['Customer No.'] == i, 'Model'] = make_model[car]"
   ]
  },
  {
   "cell_type": "code",
   "execution_count": 16,
   "metadata": {},
   "outputs": [
    {
     "name": "stdout",
     "output_type": "stream",
     "text": [
      "Total customers who has visited more than once:  292\n",
      "Total customers visited more than once have all NaN values in Model: 255\n",
      "Total Nan values which can be imputed using Make of a particular customers:  146\n",
      "24.065647840499878\n"
     ]
    }
   ],
   "source": [
    "\n",
    "import time\n",
    "start = time.time()\n",
    "\n",
    "repeat = []\n",
    "values = []\n",
    "print(\"Total customers who has visited more than once: \", len(cno_1))\n",
    "for i in cno_1:\n",
    "    if (sum(pd.notna(testing[testing['Customer No.'] == i]['Model'])) == 0):\n",
    "        repeat.append(1)\n",
    "    else:\n",
    "        values.append(testing[testing['Customer No.'] == i]['Model'].isnull().sum())\n",
    "        repeat.append(0)\n",
    "print(\"Total customers visited more than once have all NaN values in Model:\", sum(repeat))\n",
    "print(\"Total Nan values which can be imputed using Make of a particular customers: \", sum(values))\n",
    "end = time.time()\n",
    "\n",
    "print(end-start)"
   ]
  },
  {
   "cell_type": "code",
   "execution_count": 17,
   "metadata": {},
   "outputs": [],
   "source": [
    "# for i in cno_1:\n",
    "#     if (sum(pd.notna(testing[testing['Customer No.'] == i]['Model'])) == 0):\n",
    "#         continue\n",
    "#     new_df = testing[testing['Customer No.'] == i]\n",
    "#     testing.loc[testing['Customer No.']==i, 'Model'] = new_df.groupby(['Customer No.','Make']).tranform(lambda x:x.fillna(x.mode()[0]))\n",
    "    "
   ]
  },
  {
   "cell_type": "markdown",
   "metadata": {},
   "source": [
    "Filling all Model missing values with car manufacturer types"
   ]
  },
  {
   "cell_type": "code",
   "execution_count": 18,
   "metadata": {},
   "outputs": [
    {
     "data": {
      "text/plain": [
       "0"
      ]
     },
     "execution_count": 18,
     "metadata": {},
     "output_type": "execute_result"
    }
   ],
   "source": [
    "modified_invoice_data['Model'] = modified_invoice_data.groupby('Make')['Model'].transform(lambda x: x.fillna(x.mode()[0]))\n",
    "modified_invoice_data['Model'].isnull().sum()"
   ]
  },
  {
   "cell_type": "markdown",
   "metadata": {},
   "source": [
    "Calculating CLTV"
   ]
  },
  {
   "cell_type": "code",
   "execution_count": 19,
   "metadata": {},
   "outputs": [
    {
     "data": {
      "text/plain": [
       "(276768, 36)"
      ]
     },
     "execution_count": 19,
     "metadata": {},
     "output_type": "execute_result"
    }
   ],
   "source": [
    "new_invoice = modified_invoice_data[modified_invoice_data['Year'].isin([2013,2014,2015])]\n",
    "new_invoice.shape"
   ]
  },
  {
   "cell_type": "code",
   "execution_count": 20,
   "metadata": {},
   "outputs": [
    {
     "data": {
      "text/plain": [
       "(155282, 36)"
      ]
     },
     "execution_count": 20,
     "metadata": {},
     "output_type": "execute_result"
    }
   ],
   "source": [
    "new_invoice = new_invoice[new_invoice['Order Type']=='Running Repairs']\n",
    "new_invoice.shape"
   ]
  },
  {
   "cell_type": "code",
   "execution_count": 21,
   "metadata": {},
   "outputs": [
    {
     "data": {
      "text/html": [
       "<div>\n",
       "<style scoped>\n",
       "    .dataframe tbody tr th:only-of-type {\n",
       "        vertical-align: middle;\n",
       "    }\n",
       "\n",
       "    .dataframe tbody tr th {\n",
       "        vertical-align: top;\n",
       "    }\n",
       "\n",
       "    .dataframe thead th {\n",
       "        text-align: right;\n",
       "    }\n",
       "</style>\n",
       "<table border=\"1\" class=\"dataframe\">\n",
       "  <thead>\n",
       "    <tr style=\"text-align: right;\">\n",
       "      <th></th>\n",
       "      <th>Job Card No</th>\n",
       "      <th>Cust Type</th>\n",
       "      <th>Customer No.</th>\n",
       "      <th>Gate Pass Time</th>\n",
       "      <th>Invoice Date</th>\n",
       "      <th>Invoice No</th>\n",
       "      <th>Invoice Time</th>\n",
       "      <th>JobCard Date</th>\n",
       "      <th>JobCard Time</th>\n",
       "      <th>KMs Reading</th>\n",
       "      <th>Labour Total</th>\n",
       "      <th>Make</th>\n",
       "      <th>Misc Total</th>\n",
       "      <th>Model</th>\n",
       "      <th>OSL Total</th>\n",
       "      <th>Order Type</th>\n",
       "      <th>Parts Total</th>\n",
       "      <th>Pin code</th>\n",
       "      <th>Plant</th>\n",
       "      <th>Plant Name1</th>\n",
       "      <th>Print Status</th>\n",
       "      <th>Recovrbl Exp</th>\n",
       "      <th>Regn No</th>\n",
       "      <th>Technician Name</th>\n",
       "      <th>Total Amt Wtd Tax.</th>\n",
       "      <th>User ID</th>\n",
       "      <th>Invoice</th>\n",
       "      <th>Job Card</th>\n",
       "      <th>service_time</th>\n",
       "      <th>clean_District</th>\n",
       "      <th>clean_CITY</th>\n",
       "      <th>Age of cars</th>\n",
       "      <th>Month</th>\n",
       "      <th>Year</th>\n",
       "      <th>Day</th>\n",
       "      <th>Season</th>\n",
       "    </tr>\n",
       "  </thead>\n",
       "  <tbody>\n",
       "    <tr>\n",
       "      <th>18623</th>\n",
       "      <td>18855</td>\n",
       "      <td>Retail</td>\n",
       "      <td>8301</td>\n",
       "      <td>00:00:00</td>\n",
       "      <td>2013-01-19</td>\n",
       "      <td>7000020607</td>\n",
       "      <td>17:26:58</td>\n",
       "      <td>2013-01-01</td>\n",
       "      <td>11:34:23</td>\n",
       "      <td>73529</td>\n",
       "      <td>929.00</td>\n",
       "      <td>GENERAL MOTORS</td>\n",
       "      <td>0.00</td>\n",
       "      <td>OPTRA</td>\n",
       "      <td>810.00</td>\n",
       "      <td>Running Repairs</td>\n",
       "      <td>4266.73</td>\n",
       "      <td>400093</td>\n",
       "      <td>BC11</td>\n",
       "      <td>ANDHERI</td>\n",
       "      <td>NO</td>\n",
       "      <td>0.00</td>\n",
       "      <td>MH04BS4422</td>\n",
       "      <td>NaN</td>\n",
       "      <td>6005.73</td>\n",
       "      <td>BC11FS1</td>\n",
       "      <td>2013-01-19 17:26:58</td>\n",
       "      <td>2013-01-01 11:34:23</td>\n",
       "      <td>437.88</td>\n",
       "      <td>Maharashtra</td>\n",
       "      <td>Mumbai</td>\n",
       "      <td>4-6</td>\n",
       "      <td>1</td>\n",
       "      <td>2013</td>\n",
       "      <td>1</td>\n",
       "      <td>Winter</td>\n",
       "    </tr>\n",
       "    <tr>\n",
       "      <th>18628</th>\n",
       "      <td>18860</td>\n",
       "      <td>Retail</td>\n",
       "      <td>4335</td>\n",
       "      <td>00:00:00</td>\n",
       "      <td>2013-01-03</td>\n",
       "      <td>7000019164</td>\n",
       "      <td>15:45:08</td>\n",
       "      <td>2013-01-02</td>\n",
       "      <td>12:05:14</td>\n",
       "      <td>14219</td>\n",
       "      <td>125.00</td>\n",
       "      <td>HYUNDAI</td>\n",
       "      <td>0.00</td>\n",
       "      <td>I20</td>\n",
       "      <td>2499.96</td>\n",
       "      <td>Running Repairs</td>\n",
       "      <td>2266.30</td>\n",
       "      <td>400093</td>\n",
       "      <td>BC11</td>\n",
       "      <td>ANDHERI</td>\n",
       "      <td>NO</td>\n",
       "      <td>0.00</td>\n",
       "      <td>TN07BF1100</td>\n",
       "      <td>NaN</td>\n",
       "      <td>4891.26</td>\n",
       "      <td>BC11FS1</td>\n",
       "      <td>2013-01-03 15:45:08</td>\n",
       "      <td>2013-01-02 12:05:14</td>\n",
       "      <td>27.66</td>\n",
       "      <td>Maharashtra</td>\n",
       "      <td>Mumbai</td>\n",
       "      <td>1-3</td>\n",
       "      <td>1</td>\n",
       "      <td>2013</td>\n",
       "      <td>2</td>\n",
       "      <td>Winter</td>\n",
       "    </tr>\n",
       "    <tr>\n",
       "      <th>18712</th>\n",
       "      <td>18945</td>\n",
       "      <td>Retail</td>\n",
       "      <td>8306</td>\n",
       "      <td>00:00:00</td>\n",
       "      <td>2013-01-01</td>\n",
       "      <td>7000019057</td>\n",
       "      <td>14:49:41</td>\n",
       "      <td>2013-01-01</td>\n",
       "      <td>11:41:31</td>\n",
       "      <td>123346</td>\n",
       "      <td>148.58</td>\n",
       "      <td>TATA MOTORS</td>\n",
       "      <td>0.00</td>\n",
       "      <td>INDICA</td>\n",
       "      <td>0.00</td>\n",
       "      <td>Running Repairs</td>\n",
       "      <td>0.00</td>\n",
       "      <td>600125</td>\n",
       "      <td>BC06</td>\n",
       "      <td>GUINDY</td>\n",
       "      <td>NO</td>\n",
       "      <td>0.00</td>\n",
       "      <td>TN10J0394</td>\n",
       "      <td>NaN</td>\n",
       "      <td>148.58</td>\n",
       "      <td>BC06SA2</td>\n",
       "      <td>2013-01-01 14:49:41</td>\n",
       "      <td>2013-01-01 11:41:31</td>\n",
       "      <td>3.14</td>\n",
       "      <td>Tamil Nadu</td>\n",
       "      <td>Kanchipuram</td>\n",
       "      <td>7-9</td>\n",
       "      <td>1</td>\n",
       "      <td>2013</td>\n",
       "      <td>1</td>\n",
       "      <td>Winter</td>\n",
       "    </tr>\n",
       "    <tr>\n",
       "      <th>18720</th>\n",
       "      <td>18953</td>\n",
       "      <td>Retail</td>\n",
       "      <td>E21494</td>\n",
       "      <td>00:00:00</td>\n",
       "      <td>2013-01-02</td>\n",
       "      <td>7000019071</td>\n",
       "      <td>12:19:37</td>\n",
       "      <td>2013-01-01</td>\n",
       "      <td>15:03:39</td>\n",
       "      <td>77833</td>\n",
       "      <td>180.00</td>\n",
       "      <td>MARUTI SUZUKI</td>\n",
       "      <td>750.03</td>\n",
       "      <td>SWIFT DZIRE</td>\n",
       "      <td>0.00</td>\n",
       "      <td>Running Repairs</td>\n",
       "      <td>384.31</td>\n",
       "      <td>600095</td>\n",
       "      <td>BC07</td>\n",
       "      <td>NERKUNDRAM</td>\n",
       "      <td>NO</td>\n",
       "      <td>0.00</td>\n",
       "      <td>TN20BY291</td>\n",
       "      <td>NaN</td>\n",
       "      <td>1314.34</td>\n",
       "      <td>BC07SA1</td>\n",
       "      <td>2013-01-02 12:19:37</td>\n",
       "      <td>2013-01-01 15:03:39</td>\n",
       "      <td>21.27</td>\n",
       "      <td>Tamil Nadu</td>\n",
       "      <td>Tiruvallur</td>\n",
       "      <td>4-6</td>\n",
       "      <td>1</td>\n",
       "      <td>2013</td>\n",
       "      <td>1</td>\n",
       "      <td>Winter</td>\n",
       "    </tr>\n",
       "    <tr>\n",
       "      <th>18721</th>\n",
       "      <td>18954</td>\n",
       "      <td>Retail</td>\n",
       "      <td>8313</td>\n",
       "      <td>00:00:00</td>\n",
       "      <td>2013-01-19</td>\n",
       "      <td>7000020560</td>\n",
       "      <td>10:38:05</td>\n",
       "      <td>2013-01-01</td>\n",
       "      <td>15:34:19</td>\n",
       "      <td>52584</td>\n",
       "      <td>2369.91</td>\n",
       "      <td>MAHINDRA &amp;  MAHINDRA</td>\n",
       "      <td>0.00</td>\n",
       "      <td>XYLO</td>\n",
       "      <td>0.00</td>\n",
       "      <td>Running Repairs</td>\n",
       "      <td>6807.97</td>\n",
       "      <td>600107</td>\n",
       "      <td>BC07</td>\n",
       "      <td>NERKUNDRAM</td>\n",
       "      <td>NO</td>\n",
       "      <td>0.00</td>\n",
       "      <td>TN01AJ0750</td>\n",
       "      <td>NaN</td>\n",
       "      <td>9177.88</td>\n",
       "      <td>BC07SA1</td>\n",
       "      <td>2013-01-19 10:38:05</td>\n",
       "      <td>2013-01-01 15:34:19</td>\n",
       "      <td>427.06</td>\n",
       "      <td>Tamil Nadu</td>\n",
       "      <td>Tiruvallur</td>\n",
       "      <td>4-6</td>\n",
       "      <td>1</td>\n",
       "      <td>2013</td>\n",
       "      <td>1</td>\n",
       "      <td>Winter</td>\n",
       "    </tr>\n",
       "  </tbody>\n",
       "</table>\n",
       "</div>"
      ],
      "text/plain": [
       "       Job Card No Cust Type Customer No. Gate Pass Time Invoice Date  Invoice No Invoice Time JobCard Date JobCard Time  KMs Reading  Labour Total                  Make  Misc Total        Model  OSL Total       Order Type  Parts Total  Pin code Plant Plant Name1 Print Status  Recovrbl Exp     Regn No Technician Name  Total Amt Wtd Tax.  User ID              Invoice             Job Card  service_time clean_District   clean_CITY Age of cars  Month  Year  Day  Season\n",
       "18623        18855    Retail         8301       00:00:00   2013-01-19  7000020607     17:26:58   2013-01-01     11:34:23        73529        929.00        GENERAL MOTORS        0.00        OPTRA     810.00  Running Repairs      4266.73    400093  BC11     ANDHERI           NO          0.00  MH04BS4422             NaN             6005.73  BC11FS1  2013-01-19 17:26:58  2013-01-01 11:34:23        437.88    Maharashtra       Mumbai         4-6      1  2013    1  Winter\n",
       "18628        18860    Retail         4335       00:00:00   2013-01-03  7000019164     15:45:08   2013-01-02     12:05:14        14219        125.00               HYUNDAI        0.00          I20    2499.96  Running Repairs      2266.30    400093  BC11     ANDHERI           NO          0.00  TN07BF1100             NaN             4891.26  BC11FS1  2013-01-03 15:45:08  2013-01-02 12:05:14         27.66    Maharashtra       Mumbai         1-3      1  2013    2  Winter\n",
       "18712        18945    Retail         8306       00:00:00   2013-01-01  7000019057     14:49:41   2013-01-01     11:41:31       123346        148.58           TATA MOTORS        0.00       INDICA       0.00  Running Repairs         0.00    600125  BC06      GUINDY           NO          0.00   TN10J0394             NaN              148.58  BC06SA2  2013-01-01 14:49:41  2013-01-01 11:41:31          3.14     Tamil Nadu  Kanchipuram         7-9      1  2013    1  Winter\n",
       "18720        18953    Retail       E21494       00:00:00   2013-01-02  7000019071     12:19:37   2013-01-01     15:03:39        77833        180.00         MARUTI SUZUKI      750.03  SWIFT DZIRE       0.00  Running Repairs       384.31    600095  BC07  NERKUNDRAM           NO          0.00   TN20BY291             NaN             1314.34  BC07SA1  2013-01-02 12:19:37  2013-01-01 15:03:39         21.27     Tamil Nadu   Tiruvallur         4-6      1  2013    1  Winter\n",
       "18721        18954    Retail         8313       00:00:00   2013-01-19  7000020560     10:38:05   2013-01-01     15:34:19        52584       2369.91  MAHINDRA &  MAHINDRA        0.00         XYLO       0.00  Running Repairs      6807.97    600107  BC07  NERKUNDRAM           NO          0.00  TN01AJ0750             NaN             9177.88  BC07SA1  2013-01-19 10:38:05  2013-01-01 15:34:19        427.06     Tamil Nadu   Tiruvallur         4-6      1  2013    1  Winter"
      ]
     },
     "execution_count": 21,
     "metadata": {},
     "output_type": "execute_result"
    }
   ],
   "source": [
    "new_invoice.head()"
   ]
  },
  {
   "cell_type": "code",
   "execution_count": 22,
   "metadata": {},
   "outputs": [],
   "source": [
    "cltv=new_invoice.groupby([\"Customer No.\",\"Make\",\"Model\"], as_index=False).agg({\"Invoice No\":'count',\"Total Amt Wtd Tax.\":'mean'})"
   ]
  },
  {
   "cell_type": "code",
   "execution_count": 23,
   "metadata": {},
   "outputs": [],
   "source": [
    "cltv.columns = ['Customers','make','model','num_of_transactions','avg_purchase_value']"
   ]
  },
  {
   "cell_type": "code",
   "execution_count": 24,
   "metadata": {},
   "outputs": [
    {
     "data": {
      "text/html": [
       "<div>\n",
       "<style scoped>\n",
       "    .dataframe tbody tr th:only-of-type {\n",
       "        vertical-align: middle;\n",
       "    }\n",
       "\n",
       "    .dataframe tbody tr th {\n",
       "        vertical-align: top;\n",
       "    }\n",
       "\n",
       "    .dataframe thead th {\n",
       "        text-align: right;\n",
       "    }\n",
       "</style>\n",
       "<table border=\"1\" class=\"dataframe\">\n",
       "  <thead>\n",
       "    <tr style=\"text-align: right;\">\n",
       "      <th></th>\n",
       "      <th>Customers</th>\n",
       "      <th>make</th>\n",
       "      <th>model</th>\n",
       "      <th>num_of_transactions</th>\n",
       "      <th>avg_purchase_value</th>\n",
       "      <th>LTV</th>\n",
       "    </tr>\n",
       "  </thead>\n",
       "  <tbody>\n",
       "    <tr>\n",
       "      <th>0</th>\n",
       "      <td>1</td>\n",
       "      <td>MARUTI SUZUKI</td>\n",
       "      <td>OMNI</td>\n",
       "      <td>1</td>\n",
       "      <td>0.00</td>\n",
       "      <td>0.00</td>\n",
       "    </tr>\n",
       "    <tr>\n",
       "      <th>1</th>\n",
       "      <td>1000</td>\n",
       "      <td>MARUTI SUZUKI</td>\n",
       "      <td>ALTO</td>\n",
       "      <td>2</td>\n",
       "      <td>598.09</td>\n",
       "      <td>1196.17</td>\n",
       "    </tr>\n",
       "    <tr>\n",
       "      <th>2</th>\n",
       "      <td>10000</td>\n",
       "      <td>MARUTI SUZUKI</td>\n",
       "      <td>WAGONR</td>\n",
       "      <td>4</td>\n",
       "      <td>183.56</td>\n",
       "      <td>734.23</td>\n",
       "    </tr>\n",
       "    <tr>\n",
       "      <th>3</th>\n",
       "      <td>100001</td>\n",
       "      <td>MAHINDRA &amp;  MAHINDRA</td>\n",
       "      <td>BOLERO</td>\n",
       "      <td>1</td>\n",
       "      <td>697.59</td>\n",
       "      <td>697.59</td>\n",
       "    </tr>\n",
       "    <tr>\n",
       "      <th>4</th>\n",
       "      <td>100001</td>\n",
       "      <td>SKODA</td>\n",
       "      <td>SUPERB</td>\n",
       "      <td>1</td>\n",
       "      <td>1058.44</td>\n",
       "      <td>1058.44</td>\n",
       "    </tr>\n",
       "    <tr>\n",
       "      <th>5</th>\n",
       "      <td>100002</td>\n",
       "      <td>FORD</td>\n",
       "      <td>FIGO</td>\n",
       "      <td>1</td>\n",
       "      <td>0.00</td>\n",
       "      <td>0.00</td>\n",
       "    </tr>\n",
       "    <tr>\n",
       "      <th>6</th>\n",
       "      <td>100004</td>\n",
       "      <td>HYUNDAI</td>\n",
       "      <td>I20</td>\n",
       "      <td>1</td>\n",
       "      <td>249.22</td>\n",
       "      <td>249.22</td>\n",
       "    </tr>\n",
       "    <tr>\n",
       "      <th>7</th>\n",
       "      <td>100007</td>\n",
       "      <td>HYUNDAI</td>\n",
       "      <td>VERNA</td>\n",
       "      <td>1</td>\n",
       "      <td>299.92</td>\n",
       "      <td>299.92</td>\n",
       "    </tr>\n",
       "    <tr>\n",
       "      <th>8</th>\n",
       "      <td>100008</td>\n",
       "      <td>TATA MOTORS</td>\n",
       "      <td>VISTA</td>\n",
       "      <td>2</td>\n",
       "      <td>1039.90</td>\n",
       "      <td>2079.81</td>\n",
       "    </tr>\n",
       "    <tr>\n",
       "      <th>9</th>\n",
       "      <td>100009</td>\n",
       "      <td>MARUTI SUZUKI</td>\n",
       "      <td>WAGONR</td>\n",
       "      <td>1</td>\n",
       "      <td>488.18</td>\n",
       "      <td>488.18</td>\n",
       "    </tr>\n",
       "  </tbody>\n",
       "</table>\n",
       "</div>"
      ],
      "text/plain": [
       "  Customers                  make   model  num_of_transactions  avg_purchase_value     LTV\n",
       "0         1         MARUTI SUZUKI    OMNI                    1                0.00    0.00\n",
       "1      1000         MARUTI SUZUKI    ALTO                    2              598.09 1196.17\n",
       "2     10000         MARUTI SUZUKI  WAGONR                    4              183.56  734.23\n",
       "3    100001  MAHINDRA &  MAHINDRA  BOLERO                    1              697.59  697.59\n",
       "4    100001                 SKODA  SUPERB                    1             1058.44 1058.44\n",
       "5    100002                  FORD    FIGO                    1                0.00    0.00\n",
       "6    100004               HYUNDAI     I20                    1              249.22  249.22\n",
       "7    100007               HYUNDAI   VERNA                    1              299.92  299.92\n",
       "8    100008           TATA MOTORS   VISTA                    2             1039.90 2079.81\n",
       "9    100009         MARUTI SUZUKI  WAGONR                    1              488.18  488.18"
      ]
     },
     "execution_count": 24,
     "metadata": {},
     "output_type": "execute_result"
    }
   ],
   "source": [
    "cltv['LTV'] = cltv['num_of_transactions'] * cltv['avg_purchase_value']\n",
    "cltv.head(10)"
   ]
  },
  {
   "cell_type": "markdown",
   "metadata": {},
   "source": [
    "2) Forming clusters based on LTV"
   ]
  },
  {
   "cell_type": "code",
   "execution_count": 25,
   "metadata": {},
   "outputs": [
    {
     "data": {
      "text/plain": [
       "Index(['Customers', 'make', 'model', 'num_of_transactions', 'avg_purchase_value', 'LTV'], dtype='object')"
      ]
     },
     "execution_count": 25,
     "metadata": {},
     "output_type": "execute_result"
    }
   ],
   "source": [
    "cltv.columns"
   ]
  },
  {
   "cell_type": "code",
   "execution_count": 26,
   "metadata": {},
   "outputs": [],
   "source": [
    "X = cltv[['num_of_transactions', 'avg_purchase_value', 'LTV']].copy()"
   ]
  },
  {
   "cell_type": "code",
   "execution_count": 27,
   "metadata": {},
   "outputs": [
    {
     "data": {
      "text/html": [
       "<div>\n",
       "<style scoped>\n",
       "    .dataframe tbody tr th:only-of-type {\n",
       "        vertical-align: middle;\n",
       "    }\n",
       "\n",
       "    .dataframe tbody tr th {\n",
       "        vertical-align: top;\n",
       "    }\n",
       "\n",
       "    .dataframe thead th {\n",
       "        text-align: right;\n",
       "    }\n",
       "</style>\n",
       "<table border=\"1\" class=\"dataframe\">\n",
       "  <thead>\n",
       "    <tr style=\"text-align: right;\">\n",
       "      <th></th>\n",
       "      <th>num_of_transactions</th>\n",
       "      <th>avg_purchase_value</th>\n",
       "      <th>LTV</th>\n",
       "    </tr>\n",
       "  </thead>\n",
       "  <tbody>\n",
       "    <tr>\n",
       "      <th>0</th>\n",
       "      <td>0.00</td>\n",
       "      <td>0.00</td>\n",
       "      <td>0.00</td>\n",
       "    </tr>\n",
       "    <tr>\n",
       "      <th>1</th>\n",
       "      <td>0.00</td>\n",
       "      <td>0.00</td>\n",
       "      <td>0.00</td>\n",
       "    </tr>\n",
       "    <tr>\n",
       "      <th>2</th>\n",
       "      <td>0.01</td>\n",
       "      <td>0.00</td>\n",
       "      <td>0.00</td>\n",
       "    </tr>\n",
       "    <tr>\n",
       "      <th>3</th>\n",
       "      <td>0.00</td>\n",
       "      <td>0.00</td>\n",
       "      <td>0.00</td>\n",
       "    </tr>\n",
       "    <tr>\n",
       "      <th>4</th>\n",
       "      <td>0.00</td>\n",
       "      <td>0.01</td>\n",
       "      <td>0.00</td>\n",
       "    </tr>\n",
       "  </tbody>\n",
       "</table>\n",
       "</div>"
      ],
      "text/plain": [
       "   num_of_transactions  avg_purchase_value  LTV\n",
       "0                 0.00                0.00 0.00\n",
       "1                 0.00                0.00 0.00\n",
       "2                 0.01                0.00 0.00\n",
       "3                 0.00                0.00 0.00\n",
       "4                 0.00                0.01 0.00"
      ]
     },
     "execution_count": 27,
     "metadata": {},
     "output_type": "execute_result"
    }
   ],
   "source": [
    "sc = MinMaxScaler()\n",
    "X = pd.DataFrame(sc.fit_transform(X))\n",
    "X.columns = ['num_of_transactions', 'avg_purchase_value', 'LTV']\n",
    "X.head()"
   ]
  },
  {
   "cell_type": "code",
   "execution_count": 28,
   "metadata": {},
   "outputs": [],
   "source": [
    "wcss = []\n",
    "for i in range(2,11):\n",
    "    kmeans = KMeans(n_clusters=i , random_state=42)\n",
    "    kmeans.fit(X)\n",
    "    wcss.append(kmeans.inertia_)"
   ]
  },
  {
   "cell_type": "code",
   "execution_count": 29,
   "metadata": {},
   "outputs": [
    {
     "data": {
      "text/plain": [
       "Text(0.5, 0, 'Number of Clusters')"
      ]
     },
     "execution_count": 29,
     "metadata": {},
     "output_type": "execute_result"
    },
    {
     "data": {
      "image/png": "[encoded data removed]",
      "text/plain": [
       "<Figure size 432x288 with 1 Axes>"
      ]
     },
     "metadata": {
      "needs_background": "light"
     },
     "output_type": "display_data"
    }
   ],
   "source": [
    "x=np.arange(2,11)\n",
    "plt.plot(x,wcss)\n",
    "plt.scatter(x,wcss)\n",
    "plt.ylabel(\"Within Cluster Sum of Squares (WCSS)\")\n",
    "plt.xlabel(\"Number of Clusters\")"
   ]
  },
  {
   "cell_type": "code",
   "execution_count": 30,
   "metadata": {},
   "outputs": [],
   "source": [
    "kmeans_final = KMeans(n_clusters=6, random_state=42)\n",
    "kmeans_final.fit(X)\n",
    "cltv['clusters'] = kmeans_final.predict(X)"
   ]
  },
  {
   "cell_type": "code",
   "execution_count": 31,
   "metadata": {},
   "outputs": [
    {
     "name": "stderr",
     "output_type": "stream",
     "text": [
      "/opt/conda/lib/python3.6/site-packages/seaborn/regression.py:574: UserWarning: The `size` parameter has been renamed to `height`; please update your code.\n",
      "  warnings.warn(msg, UserWarning)\n"
     ]
    },
    {
     "data": {
      "text/plain": [
       "<seaborn.axisgrid.FacetGrid at 0x7f5d9de3def0>"
      ]
     },
     "execution_count": 31,
     "metadata": {},
     "output_type": "execute_result"
    },
    {
     "data": {
      "image/png": "[encoded data removed]",
      "text/plain": [
       "<Figure size 623.375x576 with 1 Axes>"
      ]
     },
     "metadata": {
      "needs_background": "light"
     },
     "output_type": "display_data"
    }
   ],
   "source": [
    "sns.lmplot(data= cltv, x = 'num_of_transactions', y='avg_purchase_value',fit_reg=False,hue = 'clusters', legend_out = True, size = 8)"
   ]
  },
  {
   "cell_type": "code",
   "execution_count": 32,
   "metadata": {},
   "outputs": [
    {
     "data": {
      "text/html": [
       "<div>\n",
       "<style scoped>\n",
       "    .dataframe tbody tr th:only-of-type {\n",
       "        vertical-align: middle;\n",
       "    }\n",
       "\n",
       "    .dataframe tbody tr th {\n",
       "        vertical-align: top;\n",
       "    }\n",
       "\n",
       "    .dataframe thead th {\n",
       "        text-align: right;\n",
       "    }\n",
       "</style>\n",
       "<table border=\"1\" class=\"dataframe\">\n",
       "  <thead>\n",
       "    <tr style=\"text-align: right;\">\n",
       "      <th></th>\n",
       "      <th>pca1</th>\n",
       "      <th>pca2</th>\n",
       "    </tr>\n",
       "  </thead>\n",
       "  <tbody>\n",
       "    <tr>\n",
       "      <th>0</th>\n",
       "      <td>-0.02</td>\n",
       "      <td>-0.00</td>\n",
       "    </tr>\n",
       "    <tr>\n",
       "      <th>1</th>\n",
       "      <td>-0.01</td>\n",
       "      <td>0.00</td>\n",
       "    </tr>\n",
       "    <tr>\n",
       "      <th>2</th>\n",
       "      <td>-0.01</td>\n",
       "      <td>0.01</td>\n",
       "    </tr>\n",
       "    <tr>\n",
       "      <th>3</th>\n",
       "      <td>-0.01</td>\n",
       "      <td>-0.00</td>\n",
       "    </tr>\n",
       "    <tr>\n",
       "      <th>4</th>\n",
       "      <td>-0.01</td>\n",
       "      <td>-0.00</td>\n",
       "    </tr>\n",
       "  </tbody>\n",
       "</table>\n",
       "</div>"
      ],
      "text/plain": [
       "   pca1  pca2\n",
       "0 -0.02 -0.00\n",
       "1 -0.01  0.00\n",
       "2 -0.01  0.01\n",
       "3 -0.01 -0.00\n",
       "4 -0.01 -0.00"
      ]
     },
     "execution_count": 32,
     "metadata": {},
     "output_type": "execute_result"
    }
   ],
   "source": [
    "pca = PCA(n_components=2)\n",
    "pca_df = pca.fit_transform(X)\n",
    "pca_df = pd.DataFrame(pca_df, columns = ['pca1','pca2'])\n",
    "pca_df.head()"
   ]
  },
  {
   "cell_type": "code",
   "execution_count": 33,
   "metadata": {},
   "outputs": [],
   "source": [
    "pca_df['clusters'] = cltv['clusters'].copy()"
   ]
  },
  {
   "cell_type": "code",
   "execution_count": 34,
   "metadata": {},
   "outputs": [
    {
     "name": "stderr",
     "output_type": "stream",
     "text": [
      "/opt/conda/lib/python3.6/site-packages/seaborn/regression.py:574: UserWarning: The `size` parameter has been renamed to `height`; please update your code.\n",
      "  warnings.warn(msg, UserWarning)\n"
     ]
    },
    {
     "data": {
      "image/png": "[encoded data removed]",
      "text/plain": [
       "<Figure size 623.375x576 with 1 Axes>"
      ]
     },
     "metadata": {
      "needs_background": "light"
     },
     "output_type": "display_data"
    }
   ],
   "source": [
    "sns.lmplot(x = 'pca1', y = 'pca2', hue = 'clusters', data = pca_df, legend_out=True, fit_reg=False, size = 8)\n",
    "plt.title(\"Plotting clusters\")\n",
    "plt.show()"
   ]
  },
  {
   "cell_type": "code",
   "execution_count": 35,
   "metadata": {},
   "outputs": [
    {
     "data": {
      "text/html": [
       "<div>\n",
       "<style scoped>\n",
       "    .dataframe tbody tr th:only-of-type {\n",
       "        vertical-align: middle;\n",
       "    }\n",
       "\n",
       "    .dataframe tbody tr th {\n",
       "        vertical-align: top;\n",
       "    }\n",
       "\n",
       "    .dataframe thead th {\n",
       "        text-align: right;\n",
       "    }\n",
       "</style>\n",
       "<table border=\"1\" class=\"dataframe\">\n",
       "  <thead>\n",
       "    <tr style=\"text-align: right;\">\n",
       "      <th></th>\n",
       "      <th>Customers</th>\n",
       "      <th>make</th>\n",
       "      <th>model</th>\n",
       "      <th>num_of_transactions</th>\n",
       "      <th>avg_purchase_value</th>\n",
       "      <th>LTV</th>\n",
       "      <th>clusters</th>\n",
       "    </tr>\n",
       "  </thead>\n",
       "  <tbody>\n",
       "    <tr>\n",
       "      <th>0</th>\n",
       "      <td>1</td>\n",
       "      <td>MARUTI SUZUKI</td>\n",
       "      <td>OMNI</td>\n",
       "      <td>1</td>\n",
       "      <td>0.00</td>\n",
       "      <td>0.00</td>\n",
       "      <td>0</td>\n",
       "    </tr>\n",
       "    <tr>\n",
       "      <th>1</th>\n",
       "      <td>1000</td>\n",
       "      <td>MARUTI SUZUKI</td>\n",
       "      <td>ALTO</td>\n",
       "      <td>2</td>\n",
       "      <td>598.09</td>\n",
       "      <td>1196.17</td>\n",
       "      <td>0</td>\n",
       "    </tr>\n",
       "    <tr>\n",
       "      <th>2</th>\n",
       "      <td>10000</td>\n",
       "      <td>MARUTI SUZUKI</td>\n",
       "      <td>WAGONR</td>\n",
       "      <td>4</td>\n",
       "      <td>183.56</td>\n",
       "      <td>734.23</td>\n",
       "      <td>0</td>\n",
       "    </tr>\n",
       "    <tr>\n",
       "      <th>3</th>\n",
       "      <td>100001</td>\n",
       "      <td>MAHINDRA &amp;  MAHINDRA</td>\n",
       "      <td>BOLERO</td>\n",
       "      <td>1</td>\n",
       "      <td>697.59</td>\n",
       "      <td>697.59</td>\n",
       "      <td>0</td>\n",
       "    </tr>\n",
       "    <tr>\n",
       "      <th>4</th>\n",
       "      <td>100001</td>\n",
       "      <td>SKODA</td>\n",
       "      <td>SUPERB</td>\n",
       "      <td>1</td>\n",
       "      <td>1058.44</td>\n",
       "      <td>1058.44</td>\n",
       "      <td>0</td>\n",
       "    </tr>\n",
       "  </tbody>\n",
       "</table>\n",
       "</div>"
      ],
      "text/plain": [
       "  Customers                  make   model  num_of_transactions  avg_purchase_value     LTV  clusters\n",
       "0         1         MARUTI SUZUKI    OMNI                    1                0.00    0.00         0\n",
       "1      1000         MARUTI SUZUKI    ALTO                    2              598.09 1196.17         0\n",
       "2     10000         MARUTI SUZUKI  WAGONR                    4              183.56  734.23         0\n",
       "3    100001  MAHINDRA &  MAHINDRA  BOLERO                    1              697.59  697.59         0\n",
       "4    100001                 SKODA  SUPERB                    1             1058.44 1058.44         0"
      ]
     },
     "execution_count": 35,
     "metadata": {},
     "output_type": "execute_result"
    }
   ],
   "source": [
    "cltv_1 = cltv.copy()\n",
    "cltv_1.head()"
   ]
  },
  {
   "cell_type": "code",
   "execution_count": 36,
   "metadata": {},
   "outputs": [],
   "source": [
    "le = LabelEncoder()\n",
    "cltv_1['make'] = le.fit_transform(cltv_1['make'])\n",
    "cltv_1['model'] = le.fit_transform(cltv_1['model'])"
   ]
  },
  {
   "cell_type": "code",
   "execution_count": 37,
   "metadata": {},
   "outputs": [
    {
     "data": {
      "text/html": [
       "<div>\n",
       "<style scoped>\n",
       "    .dataframe tbody tr th:only-of-type {\n",
       "        vertical-align: middle;\n",
       "    }\n",
       "\n",
       "    .dataframe tbody tr th {\n",
       "        vertical-align: top;\n",
       "    }\n",
       "\n",
       "    .dataframe thead th {\n",
       "        text-align: right;\n",
       "    }\n",
       "</style>\n",
       "<table border=\"1\" class=\"dataframe\">\n",
       "  <thead>\n",
       "    <tr style=\"text-align: right;\">\n",
       "      <th></th>\n",
       "      <th>make</th>\n",
       "      <th>model</th>\n",
       "      <th>num_of_transactions</th>\n",
       "      <th>avg_purchase_value</th>\n",
       "      <th>LTV</th>\n",
       "    </tr>\n",
       "  </thead>\n",
       "  <tbody>\n",
       "    <tr>\n",
       "      <th>0</th>\n",
       "      <td>13</td>\n",
       "      <td>123</td>\n",
       "      <td>1</td>\n",
       "      <td>0.00</td>\n",
       "      <td>0.00</td>\n",
       "    </tr>\n",
       "    <tr>\n",
       "      <th>1</th>\n",
       "      <td>13</td>\n",
       "      <td>15</td>\n",
       "      <td>2</td>\n",
       "      <td>598.09</td>\n",
       "      <td>1196.17</td>\n",
       "    </tr>\n",
       "    <tr>\n",
       "      <th>2</th>\n",
       "      <td>13</td>\n",
       "      <td>200</td>\n",
       "      <td>4</td>\n",
       "      <td>183.56</td>\n",
       "      <td>734.23</td>\n",
       "    </tr>\n",
       "    <tr>\n",
       "      <th>3</th>\n",
       "      <td>12</td>\n",
       "      <td>29</td>\n",
       "      <td>1</td>\n",
       "      <td>697.59</td>\n",
       "      <td>697.59</td>\n",
       "    </tr>\n",
       "    <tr>\n",
       "      <th>4</th>\n",
       "      <td>22</td>\n",
       "      <td>174</td>\n",
       "      <td>1</td>\n",
       "      <td>1058.44</td>\n",
       "      <td>1058.44</td>\n",
       "    </tr>\n",
       "  </tbody>\n",
       "</table>\n",
       "</div>"
      ],
      "text/plain": [
       "   make  model  num_of_transactions  avg_purchase_value     LTV\n",
       "0    13    123                    1                0.00    0.00\n",
       "1    13     15                    2              598.09 1196.17\n",
       "2    13    200                    4              183.56  734.23\n",
       "3    12     29                    1              697.59  697.59\n",
       "4    22    174                    1             1058.44 1058.44"
      ]
     },
     "execution_count": 37,
     "metadata": {},
     "output_type": "execute_result"
    }
   ],
   "source": [
    "X = cltv_1.drop(['Customers','clusters'],1)\n",
    "X1 = cltv_1.drop(['Customers','clusters'],1)\n",
    "X.head()"
   ]
  },
  {
   "cell_type": "code",
   "execution_count": 38,
   "metadata": {},
   "outputs": [],
   "source": [
    "sc = MinMaxScaler()\n",
    "X = sc.fit_transform(X)\n",
    "X = pd.DataFrame(X)\n",
    "X.columns = X1.columns"
   ]
  },
  {
   "cell_type": "code",
   "execution_count": 39,
   "metadata": {},
   "outputs": [
    {
     "data": {
      "text/html": [
       "<div>\n",
       "<style scoped>\n",
       "    .dataframe tbody tr th:only-of-type {\n",
       "        vertical-align: middle;\n",
       "    }\n",
       "\n",
       "    .dataframe tbody tr th {\n",
       "        vertical-align: top;\n",
       "    }\n",
       "\n",
       "    .dataframe thead th {\n",
       "        text-align: right;\n",
       "    }\n",
       "</style>\n",
       "<table border=\"1\" class=\"dataframe\">\n",
       "  <thead>\n",
       "    <tr style=\"text-align: right;\">\n",
       "      <th></th>\n",
       "      <th>make</th>\n",
       "      <th>model</th>\n",
       "      <th>num_of_transactions</th>\n",
       "      <th>avg_purchase_value</th>\n",
       "      <th>LTV</th>\n",
       "    </tr>\n",
       "  </thead>\n",
       "  <tbody>\n",
       "    <tr>\n",
       "      <th>0</th>\n",
       "      <td>0.48</td>\n",
       "      <td>0.58</td>\n",
       "      <td>0.00</td>\n",
       "      <td>0.00</td>\n",
       "      <td>0.00</td>\n",
       "    </tr>\n",
       "    <tr>\n",
       "      <th>1</th>\n",
       "      <td>0.48</td>\n",
       "      <td>0.07</td>\n",
       "      <td>0.00</td>\n",
       "      <td>0.00</td>\n",
       "      <td>0.00</td>\n",
       "    </tr>\n",
       "    <tr>\n",
       "      <th>2</th>\n",
       "      <td>0.48</td>\n",
       "      <td>0.94</td>\n",
       "      <td>0.01</td>\n",
       "      <td>0.00</td>\n",
       "      <td>0.00</td>\n",
       "    </tr>\n",
       "    <tr>\n",
       "      <th>3</th>\n",
       "      <td>0.44</td>\n",
       "      <td>0.14</td>\n",
       "      <td>0.00</td>\n",
       "      <td>0.00</td>\n",
       "      <td>0.00</td>\n",
       "    </tr>\n",
       "    <tr>\n",
       "      <th>4</th>\n",
       "      <td>0.81</td>\n",
       "      <td>0.82</td>\n",
       "      <td>0.00</td>\n",
       "      <td>0.01</td>\n",
       "      <td>0.00</td>\n",
       "    </tr>\n",
       "  </tbody>\n",
       "</table>\n",
       "</div>"
      ],
      "text/plain": [
       "   make  model  num_of_transactions  avg_purchase_value  LTV\n",
       "0  0.48   0.58                 0.00                0.00 0.00\n",
       "1  0.48   0.07                 0.00                0.00 0.00\n",
       "2  0.48   0.94                 0.01                0.00 0.00\n",
       "3  0.44   0.14                 0.00                0.00 0.00\n",
       "4  0.81   0.82                 0.00                0.01 0.00"
      ]
     },
     "execution_count": 39,
     "metadata": {},
     "output_type": "execute_result"
    }
   ],
   "source": [
    "X.head()"
   ]
  },
  {
   "cell_type": "code",
   "execution_count": 40,
   "metadata": {},
   "outputs": [
    {
     "data": {
      "text/plain": [
       "Text(0.5, 0, 'Number of Clusters')"
      ]
     },
     "execution_count": 40,
     "metadata": {},
     "output_type": "execute_result"
    },
    {
     "data": {
      "image/png": "[encoded data removed]",
      "text/plain": [
       "<Figure size 432x288 with 1 Axes>"
      ]
     },
     "metadata": {
      "needs_background": "light"
     },
     "output_type": "display_data"
    }
   ],
   "source": [
    "wcss = []\n",
    "for i in range(2,11):\n",
    "    kmeans = KMeans(n_clusters=i , random_state=42)\n",
    "    kmeans.fit(X)\n",
    "    wcss.append(kmeans.inertia_)\n",
    "    \n",
    "x=np.arange(2,11)\n",
    "plt.plot(x,wcss)\n",
    "plt.scatter(x,wcss)\n",
    "plt.ylabel(\"Within Cluster Sum of Squares (WCSS)\")\n",
    "plt.xlabel(\"Number of Clusters\")"
   ]
  },
  {
   "cell_type": "code",
   "execution_count": 41,
   "metadata": {},
   "outputs": [],
   "source": [
    "kmeans_final = KMeans(n_clusters=6, random_state=42)\n",
    "kmeans_final.fit(X)\n",
    "cltv_1['clusters1'] = kmeans_final.predict(X)"
   ]
  },
  {
   "cell_type": "code",
   "execution_count": 42,
   "metadata": {},
   "outputs": [
    {
     "data": {
      "text/html": [
       "<div>\n",
       "<style scoped>\n",
       "    .dataframe tbody tr th:only-of-type {\n",
       "        vertical-align: middle;\n",
       "    }\n",
       "\n",
       "    .dataframe tbody tr th {\n",
       "        vertical-align: top;\n",
       "    }\n",
       "\n",
       "    .dataframe thead th {\n",
       "        text-align: right;\n",
       "    }\n",
       "</style>\n",
       "<table border=\"1\" class=\"dataframe\">\n",
       "  <thead>\n",
       "    <tr style=\"text-align: right;\">\n",
       "      <th></th>\n",
       "      <th>Customers</th>\n",
       "      <th>make</th>\n",
       "      <th>model</th>\n",
       "      <th>num_of_transactions</th>\n",
       "      <th>avg_purchase_value</th>\n",
       "      <th>LTV</th>\n",
       "      <th>clusters</th>\n",
       "      <th>clusters1</th>\n",
       "    </tr>\n",
       "  </thead>\n",
       "  <tbody>\n",
       "    <tr>\n",
       "      <th>0</th>\n",
       "      <td>1</td>\n",
       "      <td>13</td>\n",
       "      <td>123</td>\n",
       "      <td>1</td>\n",
       "      <td>0.00</td>\n",
       "      <td>0.00</td>\n",
       "      <td>0</td>\n",
       "      <td>5</td>\n",
       "    </tr>\n",
       "    <tr>\n",
       "      <th>1</th>\n",
       "      <td>1000</td>\n",
       "      <td>13</td>\n",
       "      <td>15</td>\n",
       "      <td>2</td>\n",
       "      <td>598.09</td>\n",
       "      <td>1196.17</td>\n",
       "      <td>0</td>\n",
       "      <td>0</td>\n",
       "    </tr>\n",
       "    <tr>\n",
       "      <th>2</th>\n",
       "      <td>10000</td>\n",
       "      <td>13</td>\n",
       "      <td>200</td>\n",
       "      <td>4</td>\n",
       "      <td>183.56</td>\n",
       "      <td>734.23</td>\n",
       "      <td>0</td>\n",
       "      <td>1</td>\n",
       "    </tr>\n",
       "    <tr>\n",
       "      <th>3</th>\n",
       "      <td>100001</td>\n",
       "      <td>12</td>\n",
       "      <td>29</td>\n",
       "      <td>1</td>\n",
       "      <td>697.59</td>\n",
       "      <td>697.59</td>\n",
       "      <td>0</td>\n",
       "      <td>0</td>\n",
       "    </tr>\n",
       "    <tr>\n",
       "      <th>4</th>\n",
       "      <td>100001</td>\n",
       "      <td>22</td>\n",
       "      <td>174</td>\n",
       "      <td>1</td>\n",
       "      <td>1058.44</td>\n",
       "      <td>1058.44</td>\n",
       "      <td>0</td>\n",
       "      <td>4</td>\n",
       "    </tr>\n",
       "  </tbody>\n",
       "</table>\n",
       "</div>"
      ],
      "text/plain": [
       "  Customers  make  model  num_of_transactions  avg_purchase_value     LTV  clusters  clusters1\n",
       "0         1    13    123                    1                0.00    0.00         0          5\n",
       "1      1000    13     15                    2              598.09 1196.17         0          0\n",
       "2     10000    13    200                    4              183.56  734.23         0          1\n",
       "3    100001    12     29                    1              697.59  697.59         0          0\n",
       "4    100001    22    174                    1             1058.44 1058.44         0          4"
      ]
     },
     "execution_count": 42,
     "metadata": {},
     "output_type": "execute_result"
    }
   ],
   "source": [
    "cltv_1.head()"
   ]
  },
  {
   "cell_type": "code",
   "execution_count": 43,
   "metadata": {},
   "outputs": [
    {
     "name": "stderr",
     "output_type": "stream",
     "text": [
      "/opt/conda/lib/python3.6/site-packages/seaborn/regression.py:574: UserWarning: The `size` parameter has been renamed to `height`; please update your code.\n",
      "  warnings.warn(msg, UserWarning)\n"
     ]
    },
    {
     "data": {
      "text/plain": [
       "<seaborn.axisgrid.FacetGrid at 0x7f5d9dc30e48>"
      ]
     },
     "execution_count": 43,
     "metadata": {},
     "output_type": "execute_result"
    },
    {
     "data": {
      "image/png": "[encoded data removed]",
      "text/plain": [
       "<Figure size 623.375x576 with 1 Axes>"
      ]
     },
     "metadata": {
      "needs_background": "light"
     },
     "output_type": "display_data"
    }
   ],
   "source": [
    "sns.lmplot(data= cltv_1, x = 'num_of_transactions', y='avg_purchase_value',fit_reg=False,hue = 'clusters', legend_out = True, size = 8)"
   ]
  },
  {
   "cell_type": "code",
   "execution_count": 44,
   "metadata": {},
   "outputs": [
    {
     "data": {
      "text/html": [
       "<div>\n",
       "<style scoped>\n",
       "    .dataframe tbody tr th:only-of-type {\n",
       "        vertical-align: middle;\n",
       "    }\n",
       "\n",
       "    .dataframe tbody tr th {\n",
       "        vertical-align: top;\n",
       "    }\n",
       "\n",
       "    .dataframe thead th {\n",
       "        text-align: right;\n",
       "    }\n",
       "</style>\n",
       "<table border=\"1\" class=\"dataframe\">\n",
       "  <thead>\n",
       "    <tr style=\"text-align: right;\">\n",
       "      <th></th>\n",
       "      <th>pca1</th>\n",
       "      <th>pca2</th>\n",
       "    </tr>\n",
       "  </thead>\n",
       "  <tbody>\n",
       "    <tr>\n",
       "      <th>0</th>\n",
       "      <td>-0.03</td>\n",
       "      <td>0.01</td>\n",
       "    </tr>\n",
       "    <tr>\n",
       "      <th>1</th>\n",
       "      <td>0.47</td>\n",
       "      <td>-0.04</td>\n",
       "    </tr>\n",
       "    <tr>\n",
       "      <th>2</th>\n",
       "      <td>-0.39</td>\n",
       "      <td>0.04</td>\n",
       "    </tr>\n",
       "    <tr>\n",
       "      <th>3</th>\n",
       "      <td>0.41</td>\n",
       "      <td>0.01</td>\n",
       "    </tr>\n",
       "    <tr>\n",
       "      <th>4</th>\n",
       "      <td>-0.30</td>\n",
       "      <td>-0.30</td>\n",
       "    </tr>\n",
       "  </tbody>\n",
       "</table>\n",
       "</div>"
      ],
      "text/plain": [
       "   pca1  pca2\n",
       "0 -0.03  0.01\n",
       "1  0.47 -0.04\n",
       "2 -0.39  0.04\n",
       "3  0.41  0.01\n",
       "4 -0.30 -0.30"
      ]
     },
     "execution_count": 44,
     "metadata": {},
     "output_type": "execute_result"
    }
   ],
   "source": [
    "pca = PCA(n_components=2)\n",
    "pca_df = pca.fit_transform(X)\n",
    "pca_df = pd.DataFrame(pca_df, columns = ['pca1','pca2'])\n",
    "pca_df.head()"
   ]
  },
  {
   "cell_type": "code",
   "execution_count": 45,
   "metadata": {},
   "outputs": [],
   "source": [
    "pca_df['clusters'] = cltv_1['clusters1']"
   ]
  },
  {
   "cell_type": "code",
   "execution_count": 46,
   "metadata": {},
   "outputs": [
    {
     "data": {
      "text/plain": [
       "<seaborn.axisgrid.FacetGrid at 0x7f5d9dc1d7f0>"
      ]
     },
     "execution_count": 46,
     "metadata": {},
     "output_type": "execute_result"
    },
    {
     "data": {
      "image/png": "[encoded data removed]",
      "text/plain": [
       "<Figure size 407.375x360 with 1 Axes>"
      ]
     },
     "metadata": {
      "needs_background": "light"
     },
     "output_type": "display_data"
    }
   ],
   "source": [
    "sns.lmplot(data= pca_df, x = 'pca1', y='pca2',fit_reg=False,hue = 'clusters', legend_out = True)"
   ]
  },
  {
   "cell_type": "markdown",
   "metadata": {},
   "source": [
    "3) Applying models to predict CLTV"
   ]
  },
  {
   "cell_type": "code",
   "execution_count": 47,
   "metadata": {},
   "outputs": [
    {
     "data": {
      "text/html": [
       "<div>\n",
       "<style scoped>\n",
       "    .dataframe tbody tr th:only-of-type {\n",
       "        vertical-align: middle;\n",
       "    }\n",
       "\n",
       "    .dataframe tbody tr th {\n",
       "        vertical-align: top;\n",
       "    }\n",
       "\n",
       "    .dataframe thead th {\n",
       "        text-align: right;\n",
       "    }\n",
       "</style>\n",
       "<table border=\"1\" class=\"dataframe\">\n",
       "  <thead>\n",
       "    <tr style=\"text-align: right;\">\n",
       "      <th></th>\n",
       "      <th>Customers</th>\n",
       "      <th>make</th>\n",
       "      <th>model</th>\n",
       "      <th>num_of_transactions</th>\n",
       "      <th>avg_purchase_value</th>\n",
       "      <th>LTV</th>\n",
       "      <th>clusters</th>\n",
       "    </tr>\n",
       "  </thead>\n",
       "  <tbody>\n",
       "    <tr>\n",
       "      <th>0</th>\n",
       "      <td>1</td>\n",
       "      <td>MARUTI SUZUKI</td>\n",
       "      <td>OMNI</td>\n",
       "      <td>1</td>\n",
       "      <td>0.00</td>\n",
       "      <td>0.00</td>\n",
       "      <td>0</td>\n",
       "    </tr>\n",
       "    <tr>\n",
       "      <th>1</th>\n",
       "      <td>1000</td>\n",
       "      <td>MARUTI SUZUKI</td>\n",
       "      <td>ALTO</td>\n",
       "      <td>2</td>\n",
       "      <td>598.09</td>\n",
       "      <td>1196.17</td>\n",
       "      <td>0</td>\n",
       "    </tr>\n",
       "    <tr>\n",
       "      <th>2</th>\n",
       "      <td>10000</td>\n",
       "      <td>MARUTI SUZUKI</td>\n",
       "      <td>WAGONR</td>\n",
       "      <td>4</td>\n",
       "      <td>183.56</td>\n",
       "      <td>734.23</td>\n",
       "      <td>0</td>\n",
       "    </tr>\n",
       "    <tr>\n",
       "      <th>3</th>\n",
       "      <td>100001</td>\n",
       "      <td>MAHINDRA &amp;  MAHINDRA</td>\n",
       "      <td>BOLERO</td>\n",
       "      <td>1</td>\n",
       "      <td>697.59</td>\n",
       "      <td>697.59</td>\n",
       "      <td>0</td>\n",
       "    </tr>\n",
       "    <tr>\n",
       "      <th>4</th>\n",
       "      <td>100001</td>\n",
       "      <td>SKODA</td>\n",
       "      <td>SUPERB</td>\n",
       "      <td>1</td>\n",
       "      <td>1058.44</td>\n",
       "      <td>1058.44</td>\n",
       "      <td>0</td>\n",
       "    </tr>\n",
       "  </tbody>\n",
       "</table>\n",
       "</div>"
      ],
      "text/plain": [
       "  Customers                  make   model  num_of_transactions  avg_purchase_value     LTV  clusters\n",
       "0         1         MARUTI SUZUKI    OMNI                    1                0.00    0.00         0\n",
       "1      1000         MARUTI SUZUKI    ALTO                    2              598.09 1196.17         0\n",
       "2     10000         MARUTI SUZUKI  WAGONR                    4              183.56  734.23         0\n",
       "3    100001  MAHINDRA &  MAHINDRA  BOLERO                    1              697.59  697.59         0\n",
       "4    100001                 SKODA  SUPERB                    1             1058.44 1058.44         0"
      ]
     },
     "execution_count": 47,
     "metadata": {},
     "output_type": "execute_result"
    }
   ],
   "source": [
    "cltv.head()"
   ]
  },
  {
   "cell_type": "code",
   "execution_count": 48,
   "metadata": {},
   "outputs": [
    {
     "name": "stdout",
     "output_type": "stream",
     "text": [
      "(49154, 7)\n",
      "(24576, 7)\n",
      "(24577, 7)\n"
     ]
    }
   ],
   "source": [
    "print(cltv[(cltv['LTV']>-1) & (cltv['LTV']<=1096.24)].shape)\n",
    "print(cltv[(cltv['LTV']>1096.24) & (cltv['LTV']<=4247.26)].shape)\n",
    "print(cltv[(cltv['LTV']>4247.26) & (cltv['LTV']<=732727.59)].shape)"
   ]
  },
  {
   "cell_type": "code",
   "execution_count": 49,
   "metadata": {},
   "outputs": [],
   "source": [
    "bins=[-1,1096.24,4247.26,732727.60]\n",
    "labels=[\"Low\",\"Medium\",\"High\"]\n",
    "cltv[\"LTV Binned\"]=pd.cut(cltv['LTV'], bins=bins, labels=labels)"
   ]
  },
  {
   "cell_type": "code",
   "execution_count": 50,
   "metadata": {},
   "outputs": [
    {
     "data": {
      "text/plain": [
       "Low       49154\n",
       "High      24577\n",
       "Medium    24576\n",
       "Name: LTV Binned, dtype: int64"
      ]
     },
     "execution_count": 50,
     "metadata": {},
     "output_type": "execute_result"
    }
   ],
   "source": [
    "cltv['LTV Binned'].value_counts()"
   ]
  },
  {
   "cell_type": "code",
   "execution_count": 51,
   "metadata": {},
   "outputs": [],
   "source": [
    "cltv['Location'] = modified_invoice_data['clean_CITY'].copy()\n",
    "cltv['service_time'] = modified_invoice_data['service_time'].copy()"
   ]
  },
  {
   "cell_type": "code",
   "execution_count": 52,
   "metadata": {},
   "outputs": [],
   "source": [
    "cltv.dropna(inplace=True)"
   ]
  },
  {
   "cell_type": "code",
   "execution_count": 53,
   "metadata": {},
   "outputs": [],
   "source": [
    "X = cltv.drop(['Customers','LTV', 'clusters', 'LTV Binned','num_of_transactions'],1)\n",
    "target = cltv['LTV Binned']"
   ]
  },
  {
   "cell_type": "code",
   "execution_count": 54,
   "metadata": {},
   "outputs": [
    {
     "data": {
      "text/html": [
       "<div>\n",
       "<style scoped>\n",
       "    .dataframe tbody tr th:only-of-type {\n",
       "        vertical-align: middle;\n",
       "    }\n",
       "\n",
       "    .dataframe tbody tr th {\n",
       "        vertical-align: top;\n",
       "    }\n",
       "\n",
       "    .dataframe thead th {\n",
       "        text-align: right;\n",
       "    }\n",
       "</style>\n",
       "<table border=\"1\" class=\"dataframe\">\n",
       "  <thead>\n",
       "    <tr style=\"text-align: right;\">\n",
       "      <th></th>\n",
       "      <th>make</th>\n",
       "      <th>model</th>\n",
       "      <th>avg_purchase_value</th>\n",
       "      <th>Location</th>\n",
       "      <th>service_time</th>\n",
       "    </tr>\n",
       "  </thead>\n",
       "  <tbody>\n",
       "    <tr>\n",
       "      <th>0</th>\n",
       "      <td>13</td>\n",
       "      <td>122</td>\n",
       "      <td>0.00</td>\n",
       "      <td>29</td>\n",
       "      <td>143.15</td>\n",
       "    </tr>\n",
       "    <tr>\n",
       "      <th>1</th>\n",
       "      <td>13</td>\n",
       "      <td>14</td>\n",
       "      <td>598.09</td>\n",
       "      <td>98</td>\n",
       "      <td>51.17</td>\n",
       "    </tr>\n",
       "    <tr>\n",
       "      <th>2</th>\n",
       "      <td>13</td>\n",
       "      <td>198</td>\n",
       "      <td>183.56</td>\n",
       "      <td>57</td>\n",
       "      <td>4.93</td>\n",
       "    </tr>\n",
       "    <tr>\n",
       "      <th>3</th>\n",
       "      <td>12</td>\n",
       "      <td>28</td>\n",
       "      <td>697.59</td>\n",
       "      <td>106</td>\n",
       "      <td>23.51</td>\n",
       "    </tr>\n",
       "    <tr>\n",
       "      <th>4</th>\n",
       "      <td>22</td>\n",
       "      <td>172</td>\n",
       "      <td>1058.44</td>\n",
       "      <td>106</td>\n",
       "      <td>20.83</td>\n",
       "    </tr>\n",
       "  </tbody>\n",
       "</table>\n",
       "</div>"
      ],
      "text/plain": [
       "   make  model  avg_purchase_value  Location  service_time\n",
       "0    13    122                0.00        29        143.15\n",
       "1    13     14              598.09        98         51.17\n",
       "2    13    198              183.56        57          4.93\n",
       "3    12     28              697.59       106         23.51\n",
       "4    22    172             1058.44       106         20.83"
      ]
     },
     "execution_count": 54,
     "metadata": {},
     "output_type": "execute_result"
    }
   ],
   "source": [
    "le = LabelEncoder()\n",
    "X['make'] = le.fit_transform(X['make'])\n",
    "X['model'] = le.fit_transform(X['model'])\n",
    "X['Location'] = le.fit_transform(X['Location'])\n",
    "X.head()"
   ]
  },
  {
   "cell_type": "code",
   "execution_count": 55,
   "metadata": {},
   "outputs": [
    {
     "data": {
      "text/html": [
       "<div>\n",
       "<style scoped>\n",
       "    .dataframe tbody tr th:only-of-type {\n",
       "        vertical-align: middle;\n",
       "    }\n",
       "\n",
       "    .dataframe tbody tr th {\n",
       "        vertical-align: top;\n",
       "    }\n",
       "\n",
       "    .dataframe thead th {\n",
       "        text-align: right;\n",
       "    }\n",
       "</style>\n",
       "<table border=\"1\" class=\"dataframe\">\n",
       "  <thead>\n",
       "    <tr style=\"text-align: right;\">\n",
       "      <th></th>\n",
       "      <th>make</th>\n",
       "      <th>model</th>\n",
       "      <th>avg_purchase_value</th>\n",
       "      <th>Location</th>\n",
       "      <th>service_time</th>\n",
       "    </tr>\n",
       "  </thead>\n",
       "  <tbody>\n",
       "    <tr>\n",
       "      <th>0</th>\n",
       "      <td>0.48</td>\n",
       "      <td>0.58</td>\n",
       "      <td>0.00</td>\n",
       "      <td>0.18</td>\n",
       "      <td>0.01</td>\n",
       "    </tr>\n",
       "    <tr>\n",
       "      <th>1</th>\n",
       "      <td>0.48</td>\n",
       "      <td>0.07</td>\n",
       "      <td>0.00</td>\n",
       "      <td>0.60</td>\n",
       "      <td>0.00</td>\n",
       "    </tr>\n",
       "    <tr>\n",
       "      <th>2</th>\n",
       "      <td>0.48</td>\n",
       "      <td>0.94</td>\n",
       "      <td>0.00</td>\n",
       "      <td>0.35</td>\n",
       "      <td>0.00</td>\n",
       "    </tr>\n",
       "    <tr>\n",
       "      <th>3</th>\n",
       "      <td>0.44</td>\n",
       "      <td>0.13</td>\n",
       "      <td>0.00</td>\n",
       "      <td>0.65</td>\n",
       "      <td>0.00</td>\n",
       "    </tr>\n",
       "    <tr>\n",
       "      <th>4</th>\n",
       "      <td>0.81</td>\n",
       "      <td>0.82</td>\n",
       "      <td>0.01</td>\n",
       "      <td>0.65</td>\n",
       "      <td>0.00</td>\n",
       "    </tr>\n",
       "  </tbody>\n",
       "</table>\n",
       "</div>"
      ],
      "text/plain": [
       "   make  model  avg_purchase_value  Location  service_time\n",
       "0  0.48   0.58                0.00      0.18          0.01\n",
       "1  0.48   0.07                0.00      0.60          0.00\n",
       "2  0.48   0.94                0.00      0.35          0.00\n",
       "3  0.44   0.13                0.00      0.65          0.00\n",
       "4  0.81   0.82                0.01      0.65          0.00"
      ]
     },
     "execution_count": 55,
     "metadata": {},
     "output_type": "execute_result"
    }
   ],
   "source": [
    "sc = MinMaxScaler()\n",
    "X1 = X.copy()\n",
    "X = pd.DataFrame(sc.fit_transform(X))\n",
    "X.columns = X1.columns\n",
    "X.head()"
   ]
  },
  {
   "cell_type": "code",
   "execution_count": 56,
   "metadata": {},
   "outputs": [
    {
     "data": {
      "text/plain": [
       "Low       43595\n",
       "Medium    21797\n",
       "High      21781\n",
       "Name: LTV Binned, dtype: int64"
      ]
     },
     "execution_count": 56,
     "metadata": {},
     "output_type": "execute_result"
    }
   ],
   "source": [
    "target.value_counts()"
   ]
  },
  {
   "cell_type": "code",
   "execution_count": 57,
   "metadata": {},
   "outputs": [
    {
     "data": {
      "text/plain": [
       "0    43595\n",
       "1    21797\n",
       "2    21781\n",
       "Name: LTV Binned, dtype: int64"
      ]
     },
     "execution_count": 57,
     "metadata": {},
     "output_type": "execute_result"
    }
   ],
   "source": [
    "target = target.map({'Low':0, 'Medium':1, 'High': 2})\n",
    "target.value_counts()"
   ]
  },
  {
   "cell_type": "code",
   "execution_count": 58,
   "metadata": {},
   "outputs": [],
   "source": [
    "X_train,X_test,y_train,y_test=train_test_split(X,target,test_size=0.3,random_state=42)"
   ]
  },
  {
   "cell_type": "code",
   "execution_count": 59,
   "metadata": {},
   "outputs": [],
   "source": [
    "rfc = RandomForestClassifier()\n",
    "rfc.fit(X_train,y_train)\n",
    "y_pred_rfc=rfc.predict(X_test)"
   ]
  },
  {
   "cell_type": "code",
   "execution_count": 60,
   "metadata": {},
   "outputs": [
    {
     "name": "stdout",
     "output_type": "stream",
     "text": [
      "              precision    recall  f1-score   support\n",
      "\n",
      "           0       0.90      0.99      0.94     13127\n",
      "           1       0.72      0.72      0.72      6464\n",
      "           2       0.90      0.75      0.81      6561\n",
      "\n",
      "    accuracy                           0.86     26152\n",
      "   macro avg       0.84      0.82      0.83     26152\n",
      "weighted avg       0.86      0.86      0.86     26152\n",
      "\n"
     ]
    }
   ],
   "source": [
    "print(classification_report(y_test,y_pred_rfc))"
   ]
  },
  {
   "cell_type": "code",
   "execution_count": 61,
   "metadata": {},
   "outputs": [
    {
     "name": "stdout",
     "output_type": "stream",
     "text": [
      "0.859092994799633\n"
     ]
    }
   ],
   "source": [
    "print(accuracy_score(y_test,y_pred_rfc))"
   ]
  },
  {
   "cell_type": "code",
   "execution_count": 62,
   "metadata": {},
   "outputs": [
    {
     "data": {
      "text/plain": [
       "<BarContainer object of 5 artists>"
      ]
     },
     "execution_count": 62,
     "metadata": {},
     "output_type": "execute_result"
    },
    {
     "data": {
      "image/png": "[encoded data removed]",
      "text/plain": [
       "<Figure size 432x288 with 1 Axes>"
      ]
     },
     "metadata": {
      "needs_background": "light"
     },
     "output_type": "display_data"
    }
   ],
   "source": [
    "plt.barh(list(X),list(rfc.feature_importances_))"
   ]
  },
  {
   "cell_type": "code",
   "execution_count": 63,
   "metadata": {},
   "outputs": [],
   "source": [
    "xgb=XGBClassifier()\n",
    "xgb.fit(X_train,y_train)\n",
    "y_pred_xgb=xgb.predict(X_test)"
   ]
  },
  {
   "cell_type": "code",
   "execution_count": 64,
   "metadata": {},
   "outputs": [
    {
     "data": {
      "text/plain": [
       "0.8634521260324258"
      ]
     },
     "execution_count": 64,
     "metadata": {},
     "output_type": "execute_result"
    }
   ],
   "source": [
    "accuracy_score(y_test,y_pred_xgb)"
   ]
  },
  {
   "cell_type": "code",
   "execution_count": 65,
   "metadata": {},
   "outputs": [
    {
     "name": "stdout",
     "output_type": "stream",
     "text": [
      "              precision    recall  f1-score   support\n",
      "\n",
      "           0       0.90      1.00      0.95     13127\n",
      "           1       0.72      0.75      0.74      6464\n",
      "           2       0.94      0.71      0.81      6561\n",
      "\n",
      "    accuracy                           0.86     26152\n",
      "   macro avg       0.86      0.82      0.83     26152\n",
      "weighted avg       0.87      0.86      0.86     26152\n",
      "\n"
     ]
    }
   ],
   "source": [
    "print(classification_report(y_test,y_pred_xgb))"
   ]
  },
  {
   "cell_type": "code",
   "execution_count": null,
   "metadata": {},
   "outputs": [],
   "source": []
  }
 ],
 "metadata": {
  "kernelspec": {
   "display_name": "Python 3",
   "language": "python",
   "name": "python3"
  },
  "language_info": {
   "codemirror_mode": {
    "name": "ipython",
    "version": 3
   },
   "file_extension": ".py",
   "mimetype": "text/x-python",
   "name": "python",
   "nbconvert_exporter": "python",
   "pygments_lexer": "ipython3",
   "version": "3.7.3"
  }
 },
 "nbformat": 4,
 "nbformat_minor": 4
}
